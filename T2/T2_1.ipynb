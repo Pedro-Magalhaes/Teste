{
 "cells": [
  {
   "cell_type": "markdown",
   "metadata": {},
   "source": [
    "## Regressão Linear"
   ]
  },
  {
   "cell_type": "code",
   "execution_count": 1,
   "metadata": {},
   "outputs": [],
   "source": [
    "# IMPORTS #\n",
    "\n",
    "import requests\n",
    "import pandas as pd\n",
    "import numpy as np\n",
    "\n",
    "# plotting libraries\n",
    "import matplotlib.pyplot as plt\n",
    "import seaborn as sns\n",
    "\n",
    "# machine learning libraries and functions\n",
    "import sklearn as sk\n",
    "from sklearn.model_selection import train_test_split\n",
    "from sklearn.linear_model import LinearRegression\n",
    "from sklearn.metrics import mean_squared_error, r2_score\n",
    "\n",
    "# validação\n",
    "from sklearn.model_selection import cross_val_score, cross_val_predict\n",
    "import sklearn.metrics"
   ]
  },
  {
   "cell_type": "code",
   "execution_count": 2,
   "metadata": {},
   "outputs": [],
   "source": [
    "url=\"https://raw.githubusercontent.com/Pedro-Magalhaes/Teste/master/T2/dataset1.csv\"\n",
    "df=pd.read_csv(url)\n",
    "all_predictors = [ f'V{x}' for x in range(1,14) ] # [V1,V2...V13]\n",
    "target = 'target'\n"
   ]
  },
  {
   "cell_type": "markdown",
   "metadata": {},
   "source": [
    "### Usando lasso para avaliar as features\n",
    "Fomos reduzindo o alpha para avaliar qual feature era usada pelo algoritmo"
   ]
  },
  {
   "cell_type": "code",
   "execution_count": 3,
   "metadata": {},
   "outputs": [
    {
     "name": "stdout",
     "output_type": "stream",
     "text": [
      "Predictors:        ['V1', 'V2', 'V3', 'V4', 'V5', 'V6', 'V7', 'V8', 'V9', 'V10', 'V11', 'V12', 'V13']\n",
      "Coefficients:      [ 1.91086557e-02  1.65957978e+00  3.95742297e+00 -8.75268098e-01\n",
      " -0.00000000e+00  6.69130073e-03 -4.19749334e-02 -2.41860302e-02\n",
      " -9.66749088e+00 -0.00000000e+00  0.00000000e+00 -8.66160144e-01\n",
      " -5.15340388e-01]\n",
      "Intercept:         26.58824112487529\n",
      "Mean squared error: 20.73\n",
      "Variance score:     0.74\n"
     ]
    }
   ],
   "source": [
    "dfTrain, dfTest = train_test_split(df, test_size=0.1)\n",
    "\n",
    "predictors =  all_predictors\n",
    "\n",
    "X_train = np.array(dfTrain[predictors])\n",
    "y_train = np.array(dfTrain[target])\n",
    "\n",
    "X_test = np.array(dfTest[predictors])\n",
    "y_test = np.array(dfTest[target])\n",
    "\n",
    "# Create linear regression object\n",
    "regr = sk.linear_model.Lasso(alpha=0.01,normalize=True)\n",
    "\n",
    "# Train the model using the training sets\n",
    "regr.fit(X_train, y_train)\n",
    "\n",
    "# Make predictions using the testing set\n",
    "y_pred = regr.predict(X_test)\n",
    "\n",
    "print('Predictors:       ', predictors)\n",
    "\n",
    "# The coefficients\n",
    "print('Coefficients:     ', regr.coef_)\n",
    "print('Intercept:        ', regr.intercept_)\n",
    "\n",
    "# The mean squared error (MSE)\n",
    "print('Mean squared error: %.2f' % mean_squared_error(y_test, y_pred))\n",
    "\n",
    "# Explained variance score: 1 is perfect prediction\n",
    "print('Variance score:     %.2f' % r2_score(y_test, y_pred))"
   ]
  },
  {
   "cell_type": "code",
   "execution_count": 4,
   "metadata": {},
   "outputs": [
    {
     "name": "stdout",
     "output_type": "stream",
     "text": [
      "Cross-validated scores: [ 0.63149698  0.56681358  0.32056878 -1.19235166]\n"
     ]
    }
   ],
   "source": [
    "predictors = all_predictors\n",
    "\n",
    "X = df[predictors]\n",
    "y = df[target]\n",
    "N_FOLDS = 4\n",
    "\n",
    "scores = cross_val_score(regr, X, y, cv = N_FOLDS)\n",
    "predicted = cross_val_predict(regr, X, y, cv = N_FOLDS)\n",
    "sklearn.metrics.r2_score(y, predicted) \n",
    "\n",
    "print ('Cross-validated scores:', scores)"
   ]
  },
  {
   "cell_type": "markdown",
   "metadata": {},
   "source": [
    "### Linear regression"
   ]
  },
  {
   "cell_type": "code",
   "execution_count": 5,
   "metadata": {},
   "outputs": [
    {
     "name": "stdout",
     "output_type": "stream",
     "text": [
      "Predictors:        ['V1', 'V2', 'V3', 'V4', 'V5', 'V6', 'V7', 'V8', 'V9', 'V10', 'V11', 'V12', 'V13']\n",
      "Coefficients:      [ 4.44385764e-02  3.01593135e+00  4.15613213e+00 -1.47734890e+00\n",
      " -1.21587270e-02  8.12158008e-03 -1.00392289e-01  3.64284811e-02\n",
      " -1.54826754e+01 -7.09720692e-03  2.69618413e-01 -9.31262875e-01\n",
      " -5.23914775e-01]\n",
      "Intercept:         33.51819789274887\n",
      "Mean squared error: 33.35\n",
      "Variance score:     0.58\n",
      "Ajusted R^2\n",
      "0.5832798297867638 0.43686463484697824\n"
     ]
    }
   ],
   "source": [
    "dfTrain, dfTest = train_test_split(df, test_size=0.1)\n",
    "\n",
    "predictors =  all_predictors\n",
    "\n",
    "X_train = np.array(dfTrain[predictors])\n",
    "y_train = np.array(dfTrain[target])\n",
    "\n",
    "X_test = np.array(dfTest[predictors])\n",
    "y_test = np.array(dfTest[target])\n",
    "\n",
    "# Create linear regression object\n",
    "regr = sk.linear_model.LinearRegression(normalize=True)\n",
    "\n",
    "# Train the model using the training sets\n",
    "regr.fit(X_train, y_train)\n",
    "\n",
    "# Make predictions using the testing set\n",
    "y_pred = regr.predict(X_test)\n",
    "\n",
    "print('Predictors:       ', predictors)\n",
    "\n",
    "# The coefficients\n",
    "print('Coefficients:     ', regr.coef_)\n",
    "print('Intercept:        ', regr.intercept_)\n",
    "\n",
    "# The mean squared error (MSE)\n",
    "print('Mean squared error: %.2f' % mean_squared_error(y_test, y_pred))\n",
    "\n",
    "# Explained variance score: 1 is perfect prediction\n",
    "print('Variance score:     %.2f' % r2_score(y_test, y_pred))\n",
    "\n",
    "print('Ajusted R^2')\n",
    "SS_Residual = sum((y_test - y_pred)**2)\n",
    "SS_Total = sum((y_test - np.mean(y_test))**2)\n",
    "r_squared = 1 - (float(SS_Residual)) / SS_Total\n",
    "adjusted_r_squared = 1 - (1 - r_squared) * (len(y_test)-1) / (len(y_test)-X_test.shape[1]-1)\n",
    "print (r_squared, adjusted_r_squared)"
   ]
  },
  {
   "cell_type": "code",
   "execution_count": 6,
   "metadata": {},
   "outputs": [
    {
     "name": "stdout",
     "output_type": "stream",
     "text": [
      "Cross-validated scores: [ 0.60217169  0.60398145  0.35873597 -1.10867706]\n"
     ]
    }
   ],
   "source": [
    "predictors = all_predictors\n",
    "\n",
    "X = df[predictors]\n",
    "y = df[target]\n",
    "N_FOLDS = 4\n",
    "\n",
    "scores = cross_val_score(regr, X, y, cv = N_FOLDS)\n",
    "predicted = cross_val_predict(regr, X, y, cv = N_FOLDS)\n",
    "sklearn.metrics.r2_score(y, predicted) \n",
    "\n",
    "print ('Cross-validated scores:', scores)"
   ]
  },
  {
   "cell_type": "markdown",
   "metadata": {},
   "source": [
    "### Ridge regression"
   ]
  },
  {
   "cell_type": "code",
   "execution_count": 7,
   "metadata": {},
   "outputs": [
    {
     "name": "stdout",
     "output_type": "stream",
     "text": [
      "Predictors:        ['V1', 'V2', 'V3', 'V4', 'V5', 'V6', 'V7', 'V8', 'V9', 'V10', 'V11', 'V12', 'V13']\n",
      "Coefficients:      [ 1.90687966e-02  2.45729774e+00  3.17002786e+00 -3.18600751e-01\n",
      " -2.68799780e-03  7.48371790e-03 -6.15067880e-02 -7.11300236e-02\n",
      " -4.38543883e+00 -7.79167678e-03  3.87086021e-03 -5.68037851e-01\n",
      " -2.81726818e-01]\n",
      "Intercept:         19.879777794472982\n",
      "Mean squared error: 20.17\n",
      "Variance score:     0.70\n"
     ]
    }
   ],
   "source": [
    "dfTrain, dfTest = train_test_split(df, test_size=0.1)\n",
    "\n",
    "predictors =  all_predictors\n",
    "\n",
    "X_train = np.array(dfTrain[predictors])\n",
    "y_train = np.array(dfTrain[target])\n",
    "\n",
    "X_test = np.array(dfTest[predictors])\n",
    "y_test = np.array(dfTest[target])\n",
    "\n",
    "# Create linear regression object\n",
    "regr = sk.linear_model.Ridge(normalize=True, alpha=0.8)\n",
    "\n",
    "# Train the model using the training sets\n",
    "regr.fit(X_train, y_train)\n",
    "\n",
    "# Make predictions using the testing set\n",
    "y_pred = regr.predict(X_test)\n",
    "\n",
    "print('Predictors:       ', predictors)\n",
    "\n",
    "# The coefficients\n",
    "print('Coefficients:     ', regr.coef_)\n",
    "print('Intercept:        ', regr.intercept_)\n",
    "\n",
    "# The mean squared error (MSE)\n",
    "print('Mean squared error: %.2f' % mean_squared_error(y_test, y_pred))\n",
    "\n",
    "# Explained variance score: 1 is perfect prediction\n",
    "print('Variance score:     %.2f' % r2_score(y_test, y_pred))"
   ]
  },
  {
   "cell_type": "code",
   "execution_count": 8,
   "metadata": {},
   "outputs": [
    {
     "name": "stdout",
     "output_type": "stream",
     "text": [
      "Cross-validated scores: [ 0.56542862  0.50064298  0.28947706 -0.53952985]\n"
     ]
    }
   ],
   "source": [
    "predictors = all_predictors\n",
    "\n",
    "X = df[predictors]\n",
    "y = df[target]\n",
    "N_FOLDS = 4\n",
    "\n",
    "scores = cross_val_score(regr, X, y, cv = N_FOLDS)\n",
    "predicted = cross_val_predict(regr, X, y, cv = N_FOLDS)\n",
    "sklearn.metrics.r2_score(y, predicted) \n",
    "\n",
    "print ('Cross-validated scores:', scores)"
   ]
  },
  {
   "cell_type": "code",
   "execution_count": null,
   "metadata": {},
   "outputs": [],
   "source": []
  }
 ],
 "metadata": {
  "kernelspec": {
   "display_name": "Python 3",
   "language": "python",
   "name": "python3"
  },
  "language_info": {
   "codemirror_mode": {
    "name": "ipython",
    "version": 3
   },
   "file_extension": ".py",
   "mimetype": "text/x-python",
   "name": "python",
   "nbconvert_exporter": "python",
   "pygments_lexer": "ipython3",
   "version": "3.6.5"
  }
 },
 "nbformat": 4,
 "nbformat_minor": 2
}
