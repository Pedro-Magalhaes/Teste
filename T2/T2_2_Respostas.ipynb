{
 "cells": [
  {
   "cell_type": "code",
   "execution_count": 1,
   "metadata": {},
   "outputs": [],
   "source": [
    "#Incluindo libs necessarias\n",
    "import pandas as pd\n",
    "import numpy as np\n",
    "import matplotlib.pyplot as plt\n",
    "import seaborn as sns\n",
    "import warnings\n",
    "warnings.filterwarnings('ignore')\n",
    "\n",
    "from time import time\n",
    "\n",
    "from sklearn import metrics\n",
    "from sklearn.cluster import KMeans\n",
    "from sklearn.datasets import load_digits\n",
    "from sklearn.decomposition import PCA\n",
    "from sklearn.preprocessing import scale\n",
    "from sklearn import datasets\n",
    "from sklearn.cluster import SpectralClustering, AgglomerativeClustering\n",
    "from sklearn.neighbors import kneighbors_graph\n",
    "from itertools import combinations"
   ]
  },
  {
   "cell_type": "code",
   "execution_count": 2,
   "metadata": {},
   "outputs": [
    {
     "name": "stdout",
     "output_type": "stream",
     "text": [
      "(506, 13)\n",
      "Index(['V1', 'V2', 'V3', 'V4', 'V5', 'V6', 'V7', 'V8', 'V9', 'V10', 'V11',\n",
      "       'V12', 'V13'],\n",
      "      dtype='object')\n"
     ]
    }
   ],
   "source": [
    "#Importando dados e removendo atributo target\n",
    "dfData = pd.read_csv(\"dataset1.csv\").drop(columns = \"target\")\n",
    "\n",
    "#Exibindo formato dos dados\n",
    "print(dfData.shape)\n",
    "print(dfData.columns)\n",
    "dfData.head()\n",
    "\n",
    "#Definindo conjunto de atributos\n",
    "atributos = [ f'V{x}' for x in range(1,14) ]\n",
    "\n",
    "#Convertendo tudo para float para remover warnings\n",
    "def int_to_float(c):\n",
    "    if isinstance(c, float):\n",
    "        return c\n",
    "    else:\n",
    "        try:\n",
    "            return float(c)\n",
    "        except:\n",
    "            return None\n",
    "\n",
    "for atributo in atributos:\n",
    "    dfData[atributo] = dfData[atributo].apply(int_to_float)\n",
    "\n"
   ]
  },
  {
   "cell_type": "code",
   "execution_count": 3,
   "metadata": {},
   "outputs": [
    {
     "ename": "KeyboardInterrupt",
     "evalue": "",
     "output_type": "error",
     "traceback": [
      "\u001b[1;31m---------------------------------------------------------------------------\u001b[0m",
      "\u001b[1;31mKeyboardInterrupt\u001b[0m                         Traceback (most recent call last)",
      "\u001b[1;32m<ipython-input-3-6befceca778c>\u001b[0m in \u001b[0;36m<module>\u001b[1;34m\u001b[0m\n\u001b[0;32m      1\u001b[0m \u001b[1;31m#Plotando dados\u001b[0m\u001b[1;33m\u001b[0m\u001b[1;33m\u001b[0m\u001b[1;33m\u001b[0m\u001b[0m\n\u001b[0;32m      2\u001b[0m \u001b[0msns\u001b[0m\u001b[1;33m.\u001b[0m\u001b[0mpairplot\u001b[0m\u001b[1;33m(\u001b[0m\u001b[0mdfData\u001b[0m\u001b[1;33m)\u001b[0m\u001b[1;33m\u001b[0m\u001b[1;33m\u001b[0m\u001b[0m\n\u001b[1;32m----> 3\u001b[1;33m \u001b[0mplt\u001b[0m\u001b[1;33m.\u001b[0m\u001b[0mshow\u001b[0m\u001b[1;33m(\u001b[0m\u001b[1;33m)\u001b[0m\u001b[1;33m\u001b[0m\u001b[1;33m\u001b[0m\u001b[0m\n\u001b[0m",
      "\u001b[1;32m~\\Anaconda3\\lib\\site-packages\\matplotlib\\pyplot.py\u001b[0m in \u001b[0;36mshow\u001b[1;34m(*args, **kw)\u001b[0m\n\u001b[0;32m    252\u001b[0m     \"\"\"\n\u001b[0;32m    253\u001b[0m     \u001b[1;32mglobal\u001b[0m \u001b[0m_show\u001b[0m\u001b[1;33m\u001b[0m\u001b[1;33m\u001b[0m\u001b[0m\n\u001b[1;32m--> 254\u001b[1;33m     \u001b[1;32mreturn\u001b[0m \u001b[0m_show\u001b[0m\u001b[1;33m(\u001b[0m\u001b[1;33m*\u001b[0m\u001b[0margs\u001b[0m\u001b[1;33m,\u001b[0m \u001b[1;33m**\u001b[0m\u001b[0mkw\u001b[0m\u001b[1;33m)\u001b[0m\u001b[1;33m\u001b[0m\u001b[1;33m\u001b[0m\u001b[0m\n\u001b[0m\u001b[0;32m    255\u001b[0m \u001b[1;33m\u001b[0m\u001b[0m\n\u001b[0;32m    256\u001b[0m \u001b[1;33m\u001b[0m\u001b[0m\n",
      "\u001b[1;32m~\\Anaconda3\\lib\\site-packages\\ipykernel\\pylab\\backend_inline.py\u001b[0m in \u001b[0;36mshow\u001b[1;34m(close, block)\u001b[0m\n\u001b[0;32m     37\u001b[0m             display(\n\u001b[0;32m     38\u001b[0m                 \u001b[0mfigure_manager\u001b[0m\u001b[1;33m.\u001b[0m\u001b[0mcanvas\u001b[0m\u001b[1;33m.\u001b[0m\u001b[0mfigure\u001b[0m\u001b[1;33m,\u001b[0m\u001b[1;33m\u001b[0m\u001b[1;33m\u001b[0m\u001b[0m\n\u001b[1;32m---> 39\u001b[1;33m                 \u001b[0mmetadata\u001b[0m\u001b[1;33m=\u001b[0m\u001b[0m_fetch_figure_metadata\u001b[0m\u001b[1;33m(\u001b[0m\u001b[0mfigure_manager\u001b[0m\u001b[1;33m.\u001b[0m\u001b[0mcanvas\u001b[0m\u001b[1;33m.\u001b[0m\u001b[0mfigure\u001b[0m\u001b[1;33m)\u001b[0m\u001b[1;33m\u001b[0m\u001b[1;33m\u001b[0m\u001b[0m\n\u001b[0m\u001b[0;32m     40\u001b[0m             )\n\u001b[0;32m     41\u001b[0m     \u001b[1;32mfinally\u001b[0m\u001b[1;33m:\u001b[0m\u001b[1;33m\u001b[0m\u001b[1;33m\u001b[0m\u001b[0m\n",
      "\u001b[1;32m~\\Anaconda3\\lib\\site-packages\\IPython\\core\\display.py\u001b[0m in \u001b[0;36mdisplay\u001b[1;34m(include, exclude, metadata, transient, display_id, *objs, **kwargs)\u001b[0m\n\u001b[0;32m    302\u001b[0m             \u001b[0mpublish_display_data\u001b[0m\u001b[1;33m(\u001b[0m\u001b[0mdata\u001b[0m\u001b[1;33m=\u001b[0m\u001b[0mobj\u001b[0m\u001b[1;33m,\u001b[0m \u001b[0mmetadata\u001b[0m\u001b[1;33m=\u001b[0m\u001b[0mmetadata\u001b[0m\u001b[1;33m,\u001b[0m \u001b[1;33m**\u001b[0m\u001b[0mkwargs\u001b[0m\u001b[1;33m)\u001b[0m\u001b[1;33m\u001b[0m\u001b[1;33m\u001b[0m\u001b[0m\n\u001b[0;32m    303\u001b[0m         \u001b[1;32melse\u001b[0m\u001b[1;33m:\u001b[0m\u001b[1;33m\u001b[0m\u001b[1;33m\u001b[0m\u001b[0m\n\u001b[1;32m--> 304\u001b[1;33m             \u001b[0mformat_dict\u001b[0m\u001b[1;33m,\u001b[0m \u001b[0mmd_dict\u001b[0m \u001b[1;33m=\u001b[0m \u001b[0mformat\u001b[0m\u001b[1;33m(\u001b[0m\u001b[0mobj\u001b[0m\u001b[1;33m,\u001b[0m \u001b[0minclude\u001b[0m\u001b[1;33m=\u001b[0m\u001b[0minclude\u001b[0m\u001b[1;33m,\u001b[0m \u001b[0mexclude\u001b[0m\u001b[1;33m=\u001b[0m\u001b[0mexclude\u001b[0m\u001b[1;33m)\u001b[0m\u001b[1;33m\u001b[0m\u001b[1;33m\u001b[0m\u001b[0m\n\u001b[0m\u001b[0;32m    305\u001b[0m             \u001b[1;32mif\u001b[0m \u001b[1;32mnot\u001b[0m \u001b[0mformat_dict\u001b[0m\u001b[1;33m:\u001b[0m\u001b[1;33m\u001b[0m\u001b[1;33m\u001b[0m\u001b[0m\n\u001b[0;32m    306\u001b[0m                 \u001b[1;31m# nothing to display (e.g. _ipython_display_ took over)\u001b[0m\u001b[1;33m\u001b[0m\u001b[1;33m\u001b[0m\u001b[1;33m\u001b[0m\u001b[0m\n",
      "\u001b[1;32m~\\Anaconda3\\lib\\site-packages\\IPython\\core\\formatters.py\u001b[0m in \u001b[0;36mformat\u001b[1;34m(self, obj, include, exclude)\u001b[0m\n\u001b[0;32m    178\u001b[0m             \u001b[0mmd\u001b[0m \u001b[1;33m=\u001b[0m \u001b[1;32mNone\u001b[0m\u001b[1;33m\u001b[0m\u001b[1;33m\u001b[0m\u001b[0m\n\u001b[0;32m    179\u001b[0m             \u001b[1;32mtry\u001b[0m\u001b[1;33m:\u001b[0m\u001b[1;33m\u001b[0m\u001b[1;33m\u001b[0m\u001b[0m\n\u001b[1;32m--> 180\u001b[1;33m                 \u001b[0mdata\u001b[0m \u001b[1;33m=\u001b[0m \u001b[0mformatter\u001b[0m\u001b[1;33m(\u001b[0m\u001b[0mobj\u001b[0m\u001b[1;33m)\u001b[0m\u001b[1;33m\u001b[0m\u001b[1;33m\u001b[0m\u001b[0m\n\u001b[0m\u001b[0;32m    181\u001b[0m             \u001b[1;32mexcept\u001b[0m\u001b[1;33m:\u001b[0m\u001b[1;33m\u001b[0m\u001b[1;33m\u001b[0m\u001b[0m\n\u001b[0;32m    182\u001b[0m                 \u001b[1;31m# FIXME: log the exception\u001b[0m\u001b[1;33m\u001b[0m\u001b[1;33m\u001b[0m\u001b[1;33m\u001b[0m\u001b[0m\n",
      "\u001b[1;32m<C:\\Users\\Usuario\\Anaconda3\\lib\\site-packages\\decorator.py:decorator-gen-9>\u001b[0m in \u001b[0;36m__call__\u001b[1;34m(self, obj)\u001b[0m\n",
      "\u001b[1;32m~\\Anaconda3\\lib\\site-packages\\IPython\\core\\formatters.py\u001b[0m in \u001b[0;36mcatch_format_error\u001b[1;34m(method, self, *args, **kwargs)\u001b[0m\n\u001b[0;32m    222\u001b[0m     \u001b[1;34m\"\"\"show traceback on failed format call\"\"\"\u001b[0m\u001b[1;33m\u001b[0m\u001b[1;33m\u001b[0m\u001b[0m\n\u001b[0;32m    223\u001b[0m     \u001b[1;32mtry\u001b[0m\u001b[1;33m:\u001b[0m\u001b[1;33m\u001b[0m\u001b[1;33m\u001b[0m\u001b[0m\n\u001b[1;32m--> 224\u001b[1;33m         \u001b[0mr\u001b[0m \u001b[1;33m=\u001b[0m \u001b[0mmethod\u001b[0m\u001b[1;33m(\u001b[0m\u001b[0mself\u001b[0m\u001b[1;33m,\u001b[0m \u001b[1;33m*\u001b[0m\u001b[0margs\u001b[0m\u001b[1;33m,\u001b[0m \u001b[1;33m**\u001b[0m\u001b[0mkwargs\u001b[0m\u001b[1;33m)\u001b[0m\u001b[1;33m\u001b[0m\u001b[1;33m\u001b[0m\u001b[0m\n\u001b[0m\u001b[0;32m    225\u001b[0m     \u001b[1;32mexcept\u001b[0m \u001b[0mNotImplementedError\u001b[0m\u001b[1;33m:\u001b[0m\u001b[1;33m\u001b[0m\u001b[1;33m\u001b[0m\u001b[0m\n\u001b[0;32m    226\u001b[0m         \u001b[1;31m# don't warn on NotImplementedErrors\u001b[0m\u001b[1;33m\u001b[0m\u001b[1;33m\u001b[0m\u001b[1;33m\u001b[0m\u001b[0m\n",
      "\u001b[1;32m~\\Anaconda3\\lib\\site-packages\\IPython\\core\\formatters.py\u001b[0m in \u001b[0;36m__call__\u001b[1;34m(self, obj)\u001b[0m\n\u001b[0;32m    339\u001b[0m                 \u001b[1;32mpass\u001b[0m\u001b[1;33m\u001b[0m\u001b[1;33m\u001b[0m\u001b[0m\n\u001b[0;32m    340\u001b[0m             \u001b[1;32melse\u001b[0m\u001b[1;33m:\u001b[0m\u001b[1;33m\u001b[0m\u001b[1;33m\u001b[0m\u001b[0m\n\u001b[1;32m--> 341\u001b[1;33m                 \u001b[1;32mreturn\u001b[0m \u001b[0mprinter\u001b[0m\u001b[1;33m(\u001b[0m\u001b[0mobj\u001b[0m\u001b[1;33m)\u001b[0m\u001b[1;33m\u001b[0m\u001b[1;33m\u001b[0m\u001b[0m\n\u001b[0m\u001b[0;32m    342\u001b[0m             \u001b[1;31m# Finally look for special method names\u001b[0m\u001b[1;33m\u001b[0m\u001b[1;33m\u001b[0m\u001b[1;33m\u001b[0m\u001b[0m\n\u001b[0;32m    343\u001b[0m             \u001b[0mmethod\u001b[0m \u001b[1;33m=\u001b[0m \u001b[0mget_real_method\u001b[0m\u001b[1;33m(\u001b[0m\u001b[0mobj\u001b[0m\u001b[1;33m,\u001b[0m \u001b[0mself\u001b[0m\u001b[1;33m.\u001b[0m\u001b[0mprint_method\u001b[0m\u001b[1;33m)\u001b[0m\u001b[1;33m\u001b[0m\u001b[1;33m\u001b[0m\u001b[0m\n",
      "\u001b[1;32m~\\Anaconda3\\lib\\site-packages\\IPython\\core\\pylabtools.py\u001b[0m in \u001b[0;36m<lambda>\u001b[1;34m(fig)\u001b[0m\n\u001b[0;32m    242\u001b[0m \u001b[1;33m\u001b[0m\u001b[0m\n\u001b[0;32m    243\u001b[0m     \u001b[1;32mif\u001b[0m \u001b[1;34m'png'\u001b[0m \u001b[1;32min\u001b[0m \u001b[0mformats\u001b[0m\u001b[1;33m:\u001b[0m\u001b[1;33m\u001b[0m\u001b[1;33m\u001b[0m\u001b[0m\n\u001b[1;32m--> 244\u001b[1;33m         \u001b[0mpng_formatter\u001b[0m\u001b[1;33m.\u001b[0m\u001b[0mfor_type\u001b[0m\u001b[1;33m(\u001b[0m\u001b[0mFigure\u001b[0m\u001b[1;33m,\u001b[0m \u001b[1;32mlambda\u001b[0m \u001b[0mfig\u001b[0m\u001b[1;33m:\u001b[0m \u001b[0mprint_figure\u001b[0m\u001b[1;33m(\u001b[0m\u001b[0mfig\u001b[0m\u001b[1;33m,\u001b[0m \u001b[1;34m'png'\u001b[0m\u001b[1;33m,\u001b[0m \u001b[1;33m**\u001b[0m\u001b[0mkwargs\u001b[0m\u001b[1;33m)\u001b[0m\u001b[1;33m)\u001b[0m\u001b[1;33m\u001b[0m\u001b[1;33m\u001b[0m\u001b[0m\n\u001b[0m\u001b[0;32m    245\u001b[0m     \u001b[1;32mif\u001b[0m \u001b[1;34m'retina'\u001b[0m \u001b[1;32min\u001b[0m \u001b[0mformats\u001b[0m \u001b[1;32mor\u001b[0m \u001b[1;34m'png2x'\u001b[0m \u001b[1;32min\u001b[0m \u001b[0mformats\u001b[0m\u001b[1;33m:\u001b[0m\u001b[1;33m\u001b[0m\u001b[1;33m\u001b[0m\u001b[0m\n\u001b[0;32m    246\u001b[0m         \u001b[0mpng_formatter\u001b[0m\u001b[1;33m.\u001b[0m\u001b[0mfor_type\u001b[0m\u001b[1;33m(\u001b[0m\u001b[0mFigure\u001b[0m\u001b[1;33m,\u001b[0m \u001b[1;32mlambda\u001b[0m \u001b[0mfig\u001b[0m\u001b[1;33m:\u001b[0m \u001b[0mretina_figure\u001b[0m\u001b[1;33m(\u001b[0m\u001b[0mfig\u001b[0m\u001b[1;33m,\u001b[0m \u001b[1;33m**\u001b[0m\u001b[0mkwargs\u001b[0m\u001b[1;33m)\u001b[0m\u001b[1;33m)\u001b[0m\u001b[1;33m\u001b[0m\u001b[1;33m\u001b[0m\u001b[0m\n",
      "\u001b[1;32m~\\Anaconda3\\lib\\site-packages\\IPython\\core\\pylabtools.py\u001b[0m in \u001b[0;36mprint_figure\u001b[1;34m(fig, fmt, bbox_inches, **kwargs)\u001b[0m\n\u001b[0;32m    126\u001b[0m \u001b[1;33m\u001b[0m\u001b[0m\n\u001b[0;32m    127\u001b[0m     \u001b[0mbytes_io\u001b[0m \u001b[1;33m=\u001b[0m \u001b[0mBytesIO\u001b[0m\u001b[1;33m(\u001b[0m\u001b[1;33m)\u001b[0m\u001b[1;33m\u001b[0m\u001b[1;33m\u001b[0m\u001b[0m\n\u001b[1;32m--> 128\u001b[1;33m     \u001b[0mfig\u001b[0m\u001b[1;33m.\u001b[0m\u001b[0mcanvas\u001b[0m\u001b[1;33m.\u001b[0m\u001b[0mprint_figure\u001b[0m\u001b[1;33m(\u001b[0m\u001b[0mbytes_io\u001b[0m\u001b[1;33m,\u001b[0m \u001b[1;33m**\u001b[0m\u001b[0mkw\u001b[0m\u001b[1;33m)\u001b[0m\u001b[1;33m\u001b[0m\u001b[1;33m\u001b[0m\u001b[0m\n\u001b[0m\u001b[0;32m    129\u001b[0m     \u001b[0mdata\u001b[0m \u001b[1;33m=\u001b[0m \u001b[0mbytes_io\u001b[0m\u001b[1;33m.\u001b[0m\u001b[0mgetvalue\u001b[0m\u001b[1;33m(\u001b[0m\u001b[1;33m)\u001b[0m\u001b[1;33m\u001b[0m\u001b[1;33m\u001b[0m\u001b[0m\n\u001b[0;32m    130\u001b[0m     \u001b[1;32mif\u001b[0m \u001b[0mfmt\u001b[0m \u001b[1;33m==\u001b[0m \u001b[1;34m'svg'\u001b[0m\u001b[1;33m:\u001b[0m\u001b[1;33m\u001b[0m\u001b[1;33m\u001b[0m\u001b[0m\n",
      "\u001b[1;32m~\\Anaconda3\\lib\\site-packages\\matplotlib\\backend_bases.py\u001b[0m in \u001b[0;36mprint_figure\u001b[1;34m(self, filename, dpi, facecolor, edgecolor, orientation, format, bbox_inches, **kwargs)\u001b[0m\n\u001b[0;32m   2073\u001b[0m                     \u001b[0morientation\u001b[0m\u001b[1;33m=\u001b[0m\u001b[0morientation\u001b[0m\u001b[1;33m,\u001b[0m\u001b[1;33m\u001b[0m\u001b[1;33m\u001b[0m\u001b[0m\n\u001b[0;32m   2074\u001b[0m                     \u001b[0mbbox_inches_restore\u001b[0m\u001b[1;33m=\u001b[0m\u001b[0m_bbox_inches_restore\u001b[0m\u001b[1;33m,\u001b[0m\u001b[1;33m\u001b[0m\u001b[1;33m\u001b[0m\u001b[0m\n\u001b[1;32m-> 2075\u001b[1;33m                     **kwargs)\n\u001b[0m\u001b[0;32m   2076\u001b[0m             \u001b[1;32mfinally\u001b[0m\u001b[1;33m:\u001b[0m\u001b[1;33m\u001b[0m\u001b[1;33m\u001b[0m\u001b[0m\n\u001b[0;32m   2077\u001b[0m                 \u001b[1;32mif\u001b[0m \u001b[0mbbox_inches\u001b[0m \u001b[1;32mand\u001b[0m \u001b[0mrestore_bbox\u001b[0m\u001b[1;33m:\u001b[0m\u001b[1;33m\u001b[0m\u001b[1;33m\u001b[0m\u001b[0m\n",
      "\u001b[1;32m~\\Anaconda3\\lib\\site-packages\\matplotlib\\backends\\backend_agg.py\u001b[0m in \u001b[0;36mprint_png\u001b[1;34m(self, filename_or_obj, *args, **kwargs)\u001b[0m\n\u001b[0;32m    521\u001b[0m                 \u001b[0mcbook\u001b[0m\u001b[1;33m.\u001b[0m\u001b[0mopen_file_cm\u001b[0m\u001b[1;33m(\u001b[0m\u001b[0mfilename_or_obj\u001b[0m\u001b[1;33m,\u001b[0m \u001b[1;34m\"wb\"\u001b[0m\u001b[1;33m)\u001b[0m \u001b[1;32mas\u001b[0m \u001b[0mfh\u001b[0m\u001b[1;33m:\u001b[0m\u001b[1;33m\u001b[0m\u001b[1;33m\u001b[0m\u001b[0m\n\u001b[0;32m    522\u001b[0m             _png.write_png(renderer._renderer, fh,\n\u001b[1;32m--> 523\u001b[1;33m                             self.figure.dpi, metadata=metadata)\n\u001b[0m\u001b[0;32m    524\u001b[0m \u001b[1;33m\u001b[0m\u001b[0m\n\u001b[0;32m    525\u001b[0m     \u001b[1;32mdef\u001b[0m \u001b[0mprint_to_buffer\u001b[0m\u001b[1;33m(\u001b[0m\u001b[0mself\u001b[0m\u001b[1;33m)\u001b[0m\u001b[1;33m:\u001b[0m\u001b[1;33m\u001b[0m\u001b[1;33m\u001b[0m\u001b[0m\n",
      "\u001b[1;31mKeyboardInterrupt\u001b[0m: "
     ]
    }
   ],
   "source": [
    "#Plotando dados\n",
    "sns.pairplot(dfData)\n",
    "plt.show()"
   ]
  },
  {
   "cell_type": "markdown",
   "metadata": {},
   "source": [
    "## KMeans"
   ]
  },
  {
   "cell_type": "code",
   "execution_count": null,
   "metadata": {},
   "outputs": [],
   "source": [
    "np.random.seed(1001001)\n",
    "\n",
    "\n",
    "# Inicialização de variaveis\n",
    "sample_size=150\n",
    "best_sil = -999\n",
    "data = dfData\n",
    "\n",
    "for init in ['k-means++', 'random']:\n",
    "    for k in range(3,8):\n",
    "        estimator = KMeans(init=init, n_clusters=k, n_init=10, max_iter=100) # Define o modelo de clustering\n",
    "        #Rodando kMeans com todas as permutacoes de features possiveis para necontrar a melhor\n",
    "        for i in range(1,len(atributos)+1):\n",
    "            for comb in combinations(atributos,i):\n",
    "                newDf = dfData.filter(comb,axis=1)  # copiando apenas os atributos que serão usados\n",
    "                data = scale(newDf)\n",
    "                estimator.fit(data)# execução do fit para fazer a predição\n",
    "                data = scale(dfData)\n",
    "                sil = metrics.silhouette_score(data, estimator.labels_,\n",
    "                                               metric=\"euclidean\",\n",
    "                                               sample_size=sample_size) #calculo da silhuette para avaliar a predição feita\n",
    "                if sil > best_sil: #comparação da silhoette atual com a melhor silhouette\n",
    "                    # Definição dos melhores dados até o momento\n",
    "                    bestEstimator = estimator\n",
    "                    best_sil = sil\n",
    "                    bestComb = comb\n",
    "                    best_data = pd.DataFrame(data)\n",
    "                    \n",
    "#Exibindo resultados\n",
    "print('better estimator silhouette: %0.4f (%d clusters, %s)' % (best_sil, bestEstimator.n_clusters, bestEstimator.init))\n",
    "print(bestComb)\n",
    "dfData['label'] = bestEstimator.labels_\n",
    "dfData['label'] = dfData['label'].apply(int_to_float)\n",
    "best_data['label'] = bestEstimator.labels_"
   ]
  },
  {
   "cell_type": "code",
   "execution_count": null,
   "metadata": {},
   "outputs": [],
   "source": [
    "#Plot 2D de cada atributo colorido por cluster\n",
    "sns.pairplot(data=dfData, vars=bestComb, hue='label')\n",
    "plt.show()"
   ]
  },
  {
   "cell_type": "markdown",
   "metadata": {},
   "source": [
    "### Analize inicial:\n",
    "\n",
    "Pode-se notar que certas variaveis tem graficos melhores distribuidos para uma uma possivel classificação. Se olharmos para as variaveis que foram apontadas pelo algoritmo acima (Vx com Vx é o histograma da variavel):\n",
    "\n",
    "- V2: \n",
    "    Apesar de esperarmos que fosse ter um impacto menos significativo, essa variavel foi apontada com um valor alto de relevancia e mesmo olhando o grafico não conseguirmos visualizar o motivo em particular, uma vez que só conseguimos ver o label verde. Talvez conseguir afirmar que esse valor seja uma label seja bom o suficiente.\n",
    "    \n",
    "- V4:\n",
    "    Essa variavel tem um uso bom para distinguir entre os labels verde e laranja (um pouco para o azul, mas muito especifico), e provavelmente foi selecionada por essa caracteristica.\n",
    "\n",
    "- V7:\n",
    "    Notamos o padrão do V2 se repetindo, o grafico mostra em grande parte apenas o label laranja, mas achamos que conseguir afirmar isso já é muito bom para uma variavel ser util.\n",
    "\n",
    "- V8:\n",
    "    Essa variavel tem um grafico mais distinto, o label verde se destaca bastante e vimos que isso muitas vezes que isso pode  ser o suficiente para uma variavel ser escolhida.\n",
    "\n",
    "- V9:\n",
    "    Pode ser observado que tem um comportamento similar ao da variavel V4 e pode ser muito bom para distinguir entre os tres tipos, de certa forma, \"é uma versão melhor da V4\".\n",
    "\n",
    "- V11:\n",
    "    Notamos o padrão do V2 e V7 se repetindo, acredito que não tem muito o que adicionar.\n",
    "\n",
    "- V13:\n",
    "    Segue os mesmos padrões de V4 e V9, acredito que não tem muito o que adicionar.\n",
    "\n"
   ]
  },
  {
   "cell_type": "markdown",
   "metadata": {},
   "source": [
    "### PCA:\n",
    "Usando o PCA foi gerado duas visualizações dos clusters, uma 2D e outra 3D. Pode-se ver que o cluster amarelo é o que mais se separou dos outros, porém ainda dá para se ver uma diferença entre o azul e roxo, isso independente de qual dos graficos se olhe. "
   ]
  },
  {
   "cell_type": "code",
   "execution_count": null,
   "metadata": {},
   "outputs": [],
   "source": [
    "#Redução de dimencionalidade\n",
    "pca = PCA(n_components=2)\n",
    "\n",
    "#Separando as features que iremos usar\n",
    "x = dfData.loc[:, bestComb].values\n",
    "\n",
    "principalComponents = pca.fit_transform(x)\n",
    "\n",
    "principalDf = pd.DataFrame(data = principalComponents\n",
    "             , columns = ['c1', 'c2'])\n",
    "\n",
    "#Juntando as 'melhores' features com suas labels\n",
    "finalDf = pd.concat([principalDf, dfData[['label']]], axis = 1)\n",
    "\n",
    "#Plot 3D dos atributos por cluster\n",
    "from mpl_toolkits.mplot3d import Axes3D\n",
    "\n",
    "%matplotlib notebook\n",
    "fig = plt.figure()\n",
    "ax1 = fig.add_subplot(111)\n",
    "ax1.scatter(finalDf['c1'], finalDf['c2'], c = finalDf['label'], marker = 'o')\n",
    "plt.show()"
   ]
  },
  {
   "cell_type": "code",
   "execution_count": null,
   "metadata": {},
   "outputs": [],
   "source": [
    "#Redução de dimencionalidade\n",
    "pca = PCA(n_components=3)\n",
    "\n",
    "#Separando as features que iremos usar\n",
    "x = dfData.loc[:, bestComb].values\n",
    "\n",
    "principalComponents = pca.fit_transform(x)\n",
    "\n",
    "principalDf = pd.DataFrame(data = principalComponents\n",
    "             , columns = ['c1', 'c2', 'c3'])\n",
    "\n",
    "#Juntando as 'melhores' features com suas labels\n",
    "finalDf = pd.concat([principalDf, dfData[['label']]], axis = 1)\n",
    "\n",
    "#Plot 3D dos atributos por cluster\n",
    "from mpl_toolkits.mplot3d import Axes3D\n",
    "\n",
    "%matplotlib notebook\n",
    "fig = plt.figure()\n",
    "ax1 = fig.add_subplot(111, projection = '3d')\n",
    "ax1.scatter(finalDf['c1'], finalDf['c2'], finalDf['c3'], c = finalDf['label'], marker = 'o')\n",
    "plt.show()\n"
   ]
  },
  {
   "cell_type": "markdown",
   "metadata": {},
   "source": [
    "### Comparação:\n",
    "A partir da visualação 2D dos dados, utilizando das variaveis que melhor distinguem (visualmente) um ou mais clusters e vejo se o resultado fica mais claro."
   ]
  },
  {
   "cell_type": "code",
   "execution_count": null,
   "metadata": {
    "scrolled": true
   },
   "outputs": [],
   "source": [
    "#Plot 3D dos atributos por cluster\n",
    "from mpl_toolkits.mplot3d import Axes3D\n",
    "\n",
    "%matplotlib notebook\n",
    "fig = plt.figure()\n",
    "ax1 = fig.add_subplot(111, projection = '3d')\n",
    "ax1.scatter(best_data[6], best_data[8], best_data[10], c = best_data.label, marker = 'o')\n",
    "ax1.set(xlabel='V7', ylabel='V9', zlabel='V11')\n",
    "plt.show()\n"
   ]
  },
  {
   "cell_type": "markdown",
   "metadata": {},
   "source": [
    "#### V9:\n",
    "Seguindo para uma análize mais profunda, podemos ver no gráfico (V7, V9, V11) que os cluster se separam mais em função de V9. Como foi visto no grafico de V9, ele separava fortemente dois cluster (nesse caso sendo eles o cluster amarelo e azul). O roxo por sua vez é o cluster que n conseguia ser bem separado."
   ]
  },
  {
   "cell_type": "code",
   "execution_count": null,
   "metadata": {},
   "outputs": [],
   "source": [
    "sns.pairplot(data=dfData, vars=['V9'], hue='label')\n",
    "plt.show()"
   ]
  },
  {
   "cell_type": "markdown",
   "metadata": {},
   "source": [
    "#### V11:\n",
    "A variavel V1 aparentemente, dado apenas essas 3 variaveis n tem um impacto muito forte. "
   ]
  },
  {
   "cell_type": "code",
   "execution_count": null,
   "metadata": {},
   "outputs": [],
   "source": [
    "sns.pairplot(data=dfData, vars=['V11'], hue='label')\n",
    "plt.show()"
   ]
  },
  {
   "cell_type": "markdown",
   "metadata": {},
   "source": [
    "#### V7:\n",
    "V7 por sua vez mostra que valores mais elevados tendem a ser do cluster amarelo. Olhando para o grafico de V7 abaixo, pode notar que ele consegue distinguir um cluster dos outros fortemente e isso, logicamente, se refletiu no grafico 3D."
   ]
  },
  {
   "cell_type": "code",
   "execution_count": null,
   "metadata": {},
   "outputs": [],
   "source": [
    "sns.pairplot(data=dfData, vars=['V7'], hue='label')\n",
    "plt.show()"
   ]
  },
  {
   "cell_type": "markdown",
   "metadata": {},
   "source": [
    "### Analize graficos 3D:\n",
    "\n",
    "Com esses graficos é possivel ver que o cluster amarelo continua bem separado dos outros dois. Porem ele joga informação fora uma vez que não leva em conta os outros valores. Esse novo grafico ainda não resolvou a existencia de pontos \"dentro de outro cluster\". Com PDA, em um caso com mais pontos, provavelmente seria mais confiavel."
   ]
  },
  {
   "cell_type": "markdown",
   "metadata": {},
   "source": [
    "## Affinity Propagation"
   ]
  },
  {
   "cell_type": "code",
   "execution_count": null,
   "metadata": {},
   "outputs": [],
   "source": [
    "import pandas as pd\n",
    "import numpy as np\n",
    "import matplotlib.pyplot as plt\n",
    "import seaborn as sns\n",
    "\n",
    "from time import time\n",
    "\n",
    "from sklearn import metrics\n",
    "from sklearn.cluster import KMeans\n",
    "from sklearn.datasets import load_digits\n",
    "from sklearn.decomposition import PCA\n",
    "from sklearn.preprocessing import scale\n",
    "from sklearn import datasets\n",
    "from sklearn.cluster import AgglomerativeClustering, AffinityPropagation\n",
    "from sklearn.neighbors import kneighbors_graph\n",
    "from itertools import combinations"
   ]
  },
  {
   "cell_type": "code",
   "execution_count": null,
   "metadata": {},
   "outputs": [],
   "source": [
    "dfData = pd.read_csv(\"dataset1.csv\").drop(columns = \"target\")\n",
    "print(dfData.shape)\n",
    "print(dfData.columns)\n",
    "dfData.head()\n",
    "\n",
    "atributos = [ f'V{x}' for x in range(1,14) ]\n",
    "\n",
    "def int_to_float(c):\n",
    "    if isinstance(c, float):\n",
    "        return c\n",
    "    else:\n",
    "        try:\n",
    "            return float(c)\n",
    "        except:\n",
    "            return None\n",
    "\n",
    "for atributo in atributos:\n",
    "    dfData[atributo] = dfData[atributo].apply(int_to_float)"
   ]
  },
  {
   "cell_type": "code",
   "execution_count": null,
   "metadata": {},
   "outputs": [],
   "source": [
    "# Inicialização de variaveis\n",
    "best_sil = -999\n",
    "data = dfData\n",
    "\n",
    "for k in range(2,3):\n",
    "    model = AffinityPropagation()  # Define o modelo de clustering\n",
    "    for i in range(1,14):\n",
    "        for comb in combinations(atributos,i):\n",
    "            newDf = dfData.filter(comb,axis=1)  # copiando apenas os atributos que serão usados\n",
    "            data = scale(newDf)\n",
    "            labels = model.fit(data) # execução do fit para fazer a predição\n",
    "            data = scale(dfData)\n",
    "            sil = metrics.silhouette_score(data, model.labels_,\n",
    "                                               metric=\"euclidean\")  #calculo da silhuette para avaliar a predição feita\n",
    "            \n",
    "            if sil > best_sil: #comparação da silhoette atual com a melhor silhouette\n",
    "                # Definição dos melhores dados até o momento\n",
    "                bestEstimator = model\n",
    "                bestLabel = labels\n",
    "                best_sil = sil\n",
    "                bestComb = comb     \n",
    "                best_data = pd.DataFrame(data)\n",
    "                \n",
    "\n",
    "#Exibindo resultados\n",
    "print('better estimator silhouette: %0.4f (%d clusters)' % (best_sil, len(bestLabel.cluster_centers_)))\n",
    "print(bestComb)\n",
    "\n",
    "dfData['label'] = bestEstimator.labels_\n",
    "dfData['label'] = dfData['label'].apply(int_to_float)\n",
    "best_data['label'] = bestEstimator.labels_"
   ]
  },
  {
   "cell_type": "markdown",
   "metadata": {},
   "source": [
    "### Analise inicial:\n",
    "Podemos ver que o valor de silhueta é baixo e ele tem um numero de clusters bem alto comparando com o numero de variaveis. Apenas V13 não foi selecionado por esse algoritmo."
   ]
  },
  {
   "cell_type": "markdown",
   "metadata": {},
   "source": [
    "### PCA:\n",
    "\n",
    "Aplicamos PCA para melhorar a visualação dos 29 clusters. Teremos uma 3D e outra 2D."
   ]
  },
  {
   "cell_type": "code",
   "execution_count": null,
   "metadata": {
    "scrolled": true
   },
   "outputs": [],
   "source": [
    "#Redução de dimencionalidade\n",
    "pca = PCA(n_components=3)\n",
    "\n",
    "#Separando as features que iremos usar\n",
    "x = dfData.loc[:, bestComb].values\n",
    "\n",
    "principalComponents = pca.fit_transform(x)\n",
    "\n",
    "principalDf = pd.DataFrame(data = principalComponents\n",
    "             , columns = ['c1', 'c2', 'c3'])\n",
    "\n",
    "#Juntando as 'melhores' features com suas labels\n",
    "finalDf = pd.concat([principalDf, dfData[['label']]], axis = 1)\n",
    "\n",
    "#Plot 3D dos atributos por cluster\n",
    "from mpl_toolkits.mplot3d import Axes3D\n",
    "\n",
    "%matplotlib notebook\n",
    "fig = plt.figure()\n",
    "ax1 = fig.add_subplot(111, projection = '3d')\n",
    "ax1.scatter(finalDf['c1'], finalDf['c2'], finalDf['c3'], c = finalDf['label'], marker = 'o')\n",
    "plt.show()\n"
   ]
  },
  {
   "cell_type": "code",
   "execution_count": null,
   "metadata": {},
   "outputs": [],
   "source": [
    "#Redução de dimencionalidade\n",
    "pca = PCA(n_components=2)\n",
    "\n",
    "#Separando as features que iremos usar\n",
    "x = dfData.loc[:, bestComb].values\n",
    "\n",
    "principalComponents = pca.fit_transform(x)\n",
    "\n",
    "principalDf = pd.DataFrame(data = principalComponents\n",
    "             , columns = ['c1', 'c2'])\n",
    "\n",
    "#Juntando as 'melhores' features com suas labels\n",
    "finalDf = pd.concat([principalDf, dfData[['label']]], axis = 1)\n",
    "\n",
    "#Plot 3D dos atributos por cluster\n",
    "from mpl_toolkits.mplot3d import Axes3D\n",
    "\n",
    "%matplotlib notebook\n",
    "fig = plt.figure()\n",
    "ax1 = fig.add_subplot(111)\n",
    "ax1.scatter(finalDf['c1'], finalDf['c2'], c = finalDf['label'], marker = 'o')\n",
    "plt.show()"
   ]
  },
  {
   "cell_type": "markdown",
   "metadata": {},
   "source": [
    "Tentaremos fazer o mesmo que foi feito para visualizar os graficos para montar um induvidualmente."
   ]
  },
  {
   "cell_type": "code",
   "execution_count": null,
   "metadata": {},
   "outputs": [],
   "source": [
    "#Plot 2D de cada atributo colorido por cluster\n",
    "sns.pairplot(data=dfData, vars=bestComb, hue='label')\n",
    "plt.show()"
   ]
  },
  {
   "cell_type": "markdown",
   "metadata": {},
   "source": [
    "Olhando para cada histograma (Vx com Vx) e grafico, não conseguimos ver nada muito claramente, uma vez que se trata de 29 clusters é muito dificil escolher algo com apenas a visualização dos graficos"
   ]
  },
  {
   "cell_type": "markdown",
   "metadata": {},
   "source": [
    "### Análize do modelo:\n",
    "\n",
    "   Dá para ver alguma tendencia no grafico 3D gerado pelo PCA mas muitos clusters estão simplesmente muitos juntos para conseguir fazer uma distinção clara, acreditamos que seja isso a causa de um valor baixo de silhueta.   \n",
    "   Além disso, achamos curioso o fato do histograma de V2 (V2xV2) que está vazio ser escolhida para ser uma das variaveis no caso com a melhor silhueta.\n",
    "   Uma coisa que observamos nos modelos 3D é que parece haver uma separação grande entre dois grupos de dados, mas mesmo assim, parecem haver pontos que fazem parte dos dois grupos pertencentes ao mesmo cluster, contudo nós não pudemos ter certeza disso observando os gráficos, pois podem ser apenas tons parecidos de cores \n",
    "   Também tentamos hipotetizar sobre o motivo da variável V13 ter sido a unica a ser excluida pelo algoritmo para a definição do melhor caso, porém após analizarmos o plot de todos os datos feito no início do trabalho não pudemos tirar uma conclusão mais definitiva tirando o fato de que na maioria dos pairplots feitos com essa variavel os dados de uma forma geral pareciam estar muito agrupados."
   ]
  },
  {
   "cell_type": "markdown",
   "metadata": {},
   "source": [
    "## Aglomerative Clustering"
   ]
  },
  {
   "cell_type": "code",
   "execution_count": null,
   "metadata": {
    "scrolled": true
   },
   "outputs": [],
   "source": [
    "# Inicialização de variaveis\n",
    "best_sil = -999\n",
    "data = dfData\n",
    "\n",
    "for k in range(2,4):\n",
    "    # Define o modelo de clustering \n",
    "    model = AgglomerativeClustering(n_clusters=k, affinity='euclidean', compute_full_tree='auto', linkage='ward')\n",
    "    for i in range(1,14):\n",
    "        for comb in combinations(atributos,i):\n",
    "            newDf = dfData.filter(comb,axis=1)  # copiando apenas os atributos que serão usados\n",
    "            data = scale(newDf)\n",
    "            labels = model.fit_predict(data, 0)# execução do fit para fazer a predição\n",
    "            data = scale(dfData)\n",
    "            sil = metrics.silhouette_score(data, model.labels_,\n",
    "                                               metric=\"euclidean\")#calculo da silhuette para avaliar a predição feita\n",
    "            \n",
    "            if sil > best_sil: #comparação da silhoette atual com a melhor silhouette\n",
    "                # Definição dos melhores dados até o momento\n",
    "                bestEstimator = model\n",
    "                best_sil = sil\n",
    "                bestComb = comb     \n",
    "                best_data = pd.DataFrame(data)\n",
    "                \n",
    "\n",
    "\n",
    "print('better estimator silhouette: %0.4f (%d clusters)' % (best_sil, bestEstimator.n_clusters))\n",
    "print(bestComb)\n",
    "\n",
    "\n",
    "dfData['label'] = bestEstimator.labels_\n",
    "dfData['label'] = dfData['label'].apply(int_to_float)\n",
    "best_data['label'] = bestEstimator.labels_"
   ]
  },
  {
   "cell_type": "markdown",
   "metadata": {},
   "source": [
    "### Analise inicial:\n",
    "O modelo possui apenas dois clusters e uma variavel foi escolida como parametro. Como só uma variavel foi utilizada, não é necessario fazer uma redução de dimencionalidade."
   ]
  },
  {
   "cell_type": "code",
   "execution_count": null,
   "metadata": {},
   "outputs": [],
   "source": [
    "#Plot 2D de cada atributo colorido por cluster\n",
    "sns.pairplot(data=dfData, vars=bestComb, hue='label')\n",
    "plt.show()"
   ]
  },
  {
   "cell_type": "markdown",
   "metadata": {},
   "source": [
    "### Análize do modelo:\n",
    "\n",
    "   Como podemos ver, a variavel V7 consegue distinguir muito bem quem é o cluster azul e como só existem 2 clusters, é fácil para esse algoritmo fazer a distinção.\n",
    "   Acreditamos que a variavel V7 represente bem a distribuição  dos pontos, mesmo ao se considerar os 13 atributos, pois a silhueta que foi obtida foi relativamente elevada ao se considerar que apenas uma variavel foi levada em consideração."
   ]
  },
  {
   "cell_type": "markdown",
   "metadata": {},
   "source": [
    "## Análize Geral:\n",
    "\n",
    "O algoritmo que gerou a melhor silhueta foi o Aglomerative Clustering com uma silhueta de 0,4380, sendo seguido pelo KMeans com a silhueta de 0,4351 e por último veio o Affinity Propagation com 0,2521.\n",
    "No entanto, a silhueta é apenas uma forma de avaliar o quão próximos um objeto está do seu próprio cluster e distante dos  outros. Além disso, a diferença entre a silhueta do Aglomerative Clustering e a do KMeans foi muito próxima e por conta de o Kmeans usar cinco variaveis em contrapartida ao Aglomerativo que usou apenas uma consideramos que o KMeans pode ser a melhor clusterização obtida.\n",
    "O Affinity Propagation, por sua vez, teve um resultado muito pior do que os outros dois metodos de clusterização, mas não pudemos definir um motivo sólido para isso além do fato de ele ter criado um número muito maior de clusters em comparação aos outros dois metodos"
   ]
  }
 ],
 "metadata": {
  "kernelspec": {
   "display_name": "Python 3",
   "language": "python",
   "name": "python3"
  },
  "language_info": {
   "codemirror_mode": {
    "name": "ipython",
    "version": 3
   },
   "file_extension": ".py",
   "mimetype": "text/x-python",
   "name": "python",
   "nbconvert_exporter": "python",
   "pygments_lexer": "ipython3",
   "version": "3.7.3"
  }
 },
 "nbformat": 4,
 "nbformat_minor": 2
}
