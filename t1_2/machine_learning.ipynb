{
 "cells": [
  {
   "cell_type": "code",
   "execution_count": 2,
   "metadata": {},
   "outputs": [],
   "source": [
    "import numpy as np\n",
    "import pandas as pd\n",
    "from sklearn.model_selection import train_test_split\n",
    "import matplotlib.pyplot as plt"
   ]
  },
  {
   "cell_type": "code",
   "execution_count": 13,
   "metadata": {},
   "outputs": [
    {
     "data": {
      "image/png": "[encoded data removed]",
      "text/plain": [
       "<Figure size 432x288 with 1 Axes>"
      ]
     },
     "metadata": {},
     "output_type": "display_data"
    },
    {
     "data": {
      "image/png": "[encoded data removed]",
      "text/plain": [
       "<Figure size 432x288 with 9 Axes>"
      ]
     },
     "metadata": {},
     "output_type": "display_data"
    }
   ],
   "source": [
    "# classificação dos carros\n",
    "\n",
    "UNACC = 3  # não aceitável\n",
    "ACC = 1    # aceitável\n",
    "GOOD = 2   # bom\n",
    "VG = 4     # Muito bom\n",
    "\n",
    "seed = 20#12#7  # para manter todos os resultados reproduziveis\n",
    "np.random.seed(seed)\n",
    "\n",
    "# load dataset\n",
    "dataframe = pd.read_csv(r\"https://raw.githubusercontent.com/Pedro-Magalhaes/Teste/master/t1_2/car_evaluation.csv\")\n",
    "\n",
    "# Assign names to Columns\n",
    "dataframe.columns = ['buying','maint','doors','persons','lug_boot','safety','classes']\n",
    "\n",
    "# Encode Data, transformando o valor dos atributos de strings para numeros\n",
    "dataframe.buying.replace(('vhigh','high','med','low'),(1,2,3,4), inplace=True)\n",
    "dataframe.maint.replace(('vhigh','high','med','low'),(1,2,3,4), inplace=True)\n",
    "dataframe.doors.replace(('2','3','4','5more'),(1,2,3,4), inplace=True)\n",
    "dataframe.persons.replace(('2','4','more'),(1,2,3), inplace=True)\n",
    "dataframe.lug_boot.replace(('small','med','big'),(1,2,3), inplace=True)\n",
    "dataframe.safety.replace(('low','med','high'),(1,2,3), inplace=True)\n",
    "dataframe.classes.replace(('unacc','acc','good','vgood'),(1,2,3,4), inplace=True)\n",
    "\n",
    "dataset = dataframe.values\n",
    "\n",
    "# x -> atributos do problema são 5, de 0 até 5\n",
    "X = dataset[:,0:6]\n",
    "# Y -> classificação de cada caso, coluna 6 do dataframe\n",
    "Y = np.asarray(dataset[:,6], dtype=\"S6\")\n",
    "# Usando a função do sklearn para separar os casos de treino e de teste\n",
    "X_Train, X_Test, Y_Train, Y_Test = train_test_split(X, Y, test_size=0.2)\n",
    "\n",
    "def showDataHist(dataFrame):\n",
    "        # Criando o Histograma com a distribuição das classes\n",
    "        plt.hist(dataframe.classes)\n",
    "        # Histograma de cada atributo do problema\n",
    "        dataframe.hist()\n",
    "        k = [3,5,7,9,11]\n",
    "        y = [0.9050925925925926,0.9050925925925926,0.9606481481481481,0.9467592592592593,0.9259259259259259]\n",
    "        plt.plot(k,y)\n",
    "        plt.show()\n",
    "showDataHist(dataframe)\n",
    "#proporcao_aceitalvel = len([Y['classes']==1]]) / len(Y)\n",
    "#proporcao_aceitalvel"
   ]
  },
  {
   "cell_type": "code",
   "execution_count": null,
   "metadata": {},
   "outputs": [],
   "source": []
  },
  {
   "cell_type": "code",
   "execution_count": 14,
   "metadata": {},
   "outputs": [
    {
     "name": "stdout",
     "output_type": "stream",
     "text": [
      "tempo de treino: 0.03402996063232422s\n",
      "tempo de classificação dos casos de teste: 0.005004167556762695s\n",
      "Misclassified samples using SVM are: 2\n",
      "Classification Accuracy of SVM is 0.9942196531791907 \n"
     ]
    },
    {
     "name": "stderr",
     "output_type": "stream",
     "text": [
      "C:\\Users\\pfsma\\Anaconda3\\lib\\site-packages\\sklearn\\utils\\validation.py:475: DataConversionWarning: Data with input dtype int64 was converted to float64 by StandardScaler.\n",
      "  warnings.warn(msg, DataConversionWarning)\n"
     ]
    }
   ],
   "source": [
    "from sklearn import svm\n",
    "from sklearn.svm import SVC\n",
    "from sklearn.preprocessing import StandardScaler\n",
    "from sklearn.metrics import accuracy_score\n",
    "import time\n",
    "\n",
    "def printResults(errosSum,accuracy):\n",
    "    # imprimindo o numero de elementos classificados errados\n",
    "    print('Misclassified samples using SVM are: {}'.format(errosSum))\n",
    "    # imprimindo a acuracia\n",
    "    print('Classification Accuracy of SVM is {} '.format(accuracy))\n",
    "\n",
    "\n",
    "# Fazendo a standartização dos dados ler o site a seguir para explicação:\n",
    "# Obtivemos resultados melhores ulizando esse passo\n",
    "#  https://towardsdatascience.com/effect-of-feature-standardization-on-linear-support-vector-machines-13213765b812\n",
    "def standartizeTrainData(X_Train,X_Test):   \n",
    "    sc = StandardScaler()\n",
    "    sc.fit(X_Train)\n",
    "    X_train_std=sc.transform(X_Train)\n",
    "    X_test_std=sc.transform(X_Test)\n",
    "    return X_test_std, X_train_std\n",
    "\n",
    "def standartize(data):\n",
    "    sc = StandardScaler()\n",
    "    sc.fit(data)\n",
    "    data_std=sc.transform(data)        \n",
    "    return data_std\n",
    "\n",
    "def trainSVM(X_Train,X_Test,Y_Train,Y_Test):\n",
    "    start = time.time()\n",
    "    X_test_std,X_train_std = standartizeTrainData(X_Train,X_Test)\n",
    "    # https://scikit-learn.org/stable/auto_examples/svm/plot_rbf_parameters.html#sphx-glr-auto-examples-svm-plot-rbf-parameters-py\n",
    "    # kernel é o tipo de formulação matematica do svm, ebf é \"Radial Basis Function\"\n",
    "    # exp( -gamma * (|| x - x' ||)^2 )\n",
    "    # O parametro C quanto \n",
    "    svc = svm.SVC(kernel='rbf', C = 7,gamma = 0.4)\n",
    "    svc.fit(X_train_std,Y_Train)\n",
    "    print('tempo de treino: {}s'.format(time.time()-start))\n",
    "    start = time.time()\n",
    "    s_pred=svc.predict(X_test_std)\n",
    "    print('tempo de classificação dos casos de teste: {}s'.format(time.time()-start))\n",
    "    accuracy = accuracy_score(Y_Test,s_pred)\n",
    "    errosSum = (Y_Test!=s_pred).sum()\n",
    "    return svc, Y_Test, s_pred, accuracy, errosSum\n",
    "\n",
    "\n",
    "svc, Y_Test, s_pred, accuracy, errosSum = trainSVM(X_Train,X_Test,Y_Train,Y_Test)\n",
    "printResults(errosSum,accuracy)"
   ]
  },
  {
   "cell_type": "code",
   "execution_count": 5,
   "metadata": {},
   "outputs": [
    {
     "data": {
      "text/plain": [
       "array([b'2', b'1', b'1', b'1', b'1', b'1', b'1', b'1', b'1', b'1', b'1',\n",
       "       b'2', b'1', b'1', b'1', b'1', b'1', b'1', b'1', b'2', b'1', b'1',\n",
       "       b'1', b'4', b'1', b'1', b'1', b'1', b'3', b'2', b'1', b'2', b'1',\n",
       "       b'1', b'2', b'1', b'1', b'1', b'1', b'1', b'4', b'2', b'2', b'2',\n",
       "       b'4', b'1', b'1', b'1', b'1', b'1', b'1', b'1', b'1', b'1', b'3',\n",
       "       b'1', b'1', b'2', b'1', b'1', b'1', b'1', b'4', b'1', b'2', b'1',\n",
       "       b'1', b'1', b'4', b'1', b'1', b'1', b'2', b'1', b'3', b'1', b'2',\n",
       "       b'1', b'1', b'1', b'1', b'2', b'1', b'1', b'2', b'2', b'1', b'1',\n",
       "       b'1', b'1', b'1', b'3', b'1', b'1', b'1', b'1', b'3', b'1', b'1',\n",
       "       b'1', b'3', b'1', b'1', b'1', b'3', b'1', b'1', b'1', b'1', b'1',\n",
       "       b'1', b'1', b'1', b'1', b'1', b'1', b'1', b'1', b'1', b'1', b'1',\n",
       "       b'1', b'4', b'1', b'1', b'1', b'1', b'1', b'2', b'2', b'1', b'3',\n",
       "       b'4', b'2', b'2', b'2', b'2', b'1', b'1', b'1', b'1', b'1', b'1',\n",
       "       b'1', b'1', b'1', b'2', b'2', b'1', b'1', b'2', b'3', b'1', b'1',\n",
       "       b'1', b'1', b'1', b'2', b'1', b'2', b'1', b'1', b'1', b'1', b'1',\n",
       "       b'1', b'2', b'1', b'1', b'1', b'1', b'3', b'1', b'1', b'1', b'1',\n",
       "       b'1', b'2', b'1', b'2', b'1', b'1', b'2', b'1', b'1', b'1', b'2',\n",
       "       b'1', b'1', b'1', b'1', b'1', b'1', b'1', b'1', b'1', b'1', b'2',\n",
       "       b'2', b'2', b'2', b'1', b'1', b'3', b'3', b'1', b'1', b'1', b'1',\n",
       "       b'1', b'1', b'1', b'1', b'1', b'1', b'1', b'1', b'1', b'1', b'2',\n",
       "       b'1', b'1', b'1', b'1', b'2', b'2', b'1', b'4', b'2', b'1', b'1',\n",
       "       b'2', b'1', b'1', b'1', b'2', b'2', b'1', b'1', b'1', b'1', b'1',\n",
       "       b'1', b'1', b'2', b'1', b'1', b'3', b'1', b'1', b'2', b'2', b'1',\n",
       "       b'1', b'2', b'4', b'1', b'1', b'1', b'1', b'1', b'1', b'1', b'1',\n",
       "       b'1', b'1', b'3', b'2', b'1', b'1', b'1', b'1', b'2', b'1', b'1',\n",
       "       b'2', b'2', b'2', b'2', b'1', b'1', b'2', b'4', b'2', b'1', b'1',\n",
       "       b'1', b'1', b'1', b'1', b'2', b'2', b'1', b'1', b'1', b'2', b'1',\n",
       "       b'1', b'2', b'1', b'4', b'1', b'1', b'2', b'2', b'1', b'1', b'1',\n",
       "       b'2', b'1', b'1', b'1', b'1', b'1', b'1', b'1', b'1', b'1', b'2',\n",
       "       b'1', b'2', b'1', b'1', b'1', b'2', b'1', b'1', b'1', b'1', b'1',\n",
       "       b'2', b'1', b'1', b'1', b'2', b'1', b'1', b'2', b'2', b'2', b'2',\n",
       "       b'1', b'1', b'1', b'1', b'1'], dtype='|S6')"
      ]
     },
     "execution_count": 5,
     "metadata": {},
     "output_type": "execute_result"
    }
   ],
   "source": [
    "Y_Test\n"
   ]
  },
  {
   "cell_type": "code",
   "execution_count": 6,
   "metadata": {},
   "outputs": [
    {
     "data": {
      "image/png": "[encoded data removed]",
      "text/plain": [
       "<Figure size 432x288 with 1 Axes>"
      ]
     },
     "metadata": {},
     "output_type": "display_data"
    }
   ],
   "source": [
    "# temos muito mais casos de carros aceitaveis no nosso dataset\n",
    "plt.hist(Y_Test)\n",
    "plt.show()"
   ]
  },
  {
   "cell_type": "code",
   "execution_count": null,
   "metadata": {},
   "outputs": [],
   "source": []
  }
 ],
 "metadata": {
  "kernelspec": {
   "display_name": "Python 3",
   "language": "python",
   "name": "python3"
  },
  "language_info": {
   "codemirror_mode": {
    "name": "ipython",
    "version": 3
   },
   "file_extension": ".py",
   "mimetype": "text/x-python",
   "name": "python",
   "nbconvert_exporter": "python",
   "pygments_lexer": "ipython3",
   "version": "3.6.5"
  }
 },
 "nbformat": 4,
 "nbformat_minor": 2
}
