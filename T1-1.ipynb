{
 "cells": [
  {
   "cell_type": "code",
   "execution_count": 1,
   "metadata": {},
   "outputs": [],
   "source": [
    "from IPython.display import display, Markdown, Latex\n",
    "\n",
    "# Data source:\n",
    "# http://hdr.undp.org/en/composite/GII\n",
    "# http://hdr.undp.org/en/composite/GDI\n",
    "\n",
    "# Link dos dados utilizados nesse notebook. Arquivo texto, delimitado por vírgulas, sem cabeçalho\n",
    "url_gii_grupos = 'https://raw.githubusercontent.com/Pedro-Magalhaes/Teste/master/gii_grupos.csv'\n",
    "url_gdi_gii_pais = 'https://raw.githubusercontent.com/Pedro-Magalhaes/Teste/master/gdi_gii_pais.csv'\n",
    "url_gii_regioes = 'https://raw.githubusercontent.com/Pedro-Magalhaes/Teste/master/gii_regioes.csv'"
   ]
  },
  {
   "cell_type": "markdown",
   "metadata": {},
   "source": [
    "## T1.1 Gender Inequality\n",
    "* Integrantes:\n",
    "    * Hugo Cunha - 1610565\n",
    "    * Pedro Felipe - 1611074\n",
    "    * Renan Moreira - 1611061\n",
    "    * Yan Cunha - 1010886\n",
    "    \n",
    "## Dataset\n",
    "* Datasets selecionados:\n",
    "    * http://hdr.undp.org/en/composite/GII\n",
    "    * http://hdr.undp.org/en/composite/GDI\n",
    "    \n",
    "### Atributos:\n",
    "Descrição do arquivo em:\n",
    "https://raw.githubusercontent.com/Pedro-Magalhaes/Teste/master/gii_grupos.csv\n",
    "https://raw.githubusercontent.com/Pedro-Magalhaes/Teste/master/gii_pais.csv\n",
    "https://raw.githubusercontent.com/Pedro-Magalhaes/Teste/master/gii_regioes.csv\n",
    "\n",
    "1. **HDI_rank**: discrete.\n",
    "* **Country**: Norway, Switzerland, Australia, Ireland, Germany, Iceland, \"Hong Kong, China (SAR)\", Sweden, Singapore, Netherlands, Denmark, Canada, United States, United Kingdom, Finland, New Zealand, Belgium, Liechtenstein, Japan, Austria, Luxembourg, Israel, Korea (Republic of), France, Slovenia, Spain, Czechia, Italy, Malta, Estonia, Greece, Cyprus, Poland, United Arab Emirates, Andorra, Lithuania, Qatar, Slovakia, Brunei Darussalam, Saudi Arabia, Latvia, Portugal, Bahrain, Chile, Hungary, Croatia, Argentina, Oman, Russian Federation, Montenegro, Bulgaria, Romania, Belarus, Bahamas, Uruguay, Kuwait, Malaysia, Barbados, Kazakhstan, Iran (Islamic Republic of), Palau, Seychelles, Costa Rica, Turkey, Mauritius, Panama, Serbia, Albania, Trinidad and Tobago, Antigua and Barbuda, Georgia, Saint Kitts and Nevis, Cuba, Mexico, Grenada, Sri Lanka, Bosnia and Herzegovina, Venezuela (Bolivarian Republic of), Brazil, Azerbaijan, Lebanon, The former Yugoslav Republic of Macedonia, Armenia, Thailand, Algeria, China, Ecuador, Ukraine, Peru, Colombia, Saint Lucia, Fiji, Mongolia, Dominican Republic, Jordan, Tunisia, Jamaica, Tonga, Saint Vincent and the Grenadines, Suriname, Botswana, Maldives, Dominica, Samoa, Uzbekistan, Belize, Marshall Islands, Libya, Turkmenistan, Gabon, Paraguay, Moldova (Republic of), Philippines, South Africa, Egypt, Indonesia, Viet Nam, Bolivia (Plurinational State of), Palestine, State of, Iraq, El Salvador, Kyrgyzstan, Morocco, Nicaragua, Cabo Verde, Guyana, Guatemala, Tajikistan, Namibia, India, Timor-Leste, Honduras, Bhutan, Bangladesh, Congo, Vanuatu, Lao People's Democratic Republic, Ghana, Equatorial Guinea, Kenya, Sao Tome and Principe, Eswatini (Kingdom of), Zambia, Cambodia, Angola, Myanmar, Nepal, Pakistan, Cameroon, Solomon Islands, Papua New Guinea, Tanzania (United Republic of), Syrian Arab Republic, Zimbabwe, Nigeria, Rwanda, Lesotho, Mauritania, Madagascar, Uganda, Benin, Senegal, Comoros, Togo, Sudan, Afghanistan, Haiti, Côte d'Ivoire, Malawi, Djibouti, Ethiopia, Gambia, Guinea, Congo (Democratic Republic of the), Guinea-Bissau, Yemen, Eritrea, Mozambique, Liberia, Mali, Burkina Faso, Sierra Leone, Burundi, Chad, South Sudan, Central African Republic, Niger, Micronesia, Kiribati\n",
    "* **GDI_Value**: continuous.\n",
    "* **GDI_Group**: discrete.\n",
    "* **HDI_f**: continuous.\n",
    "* **HDI_m**: continuous\n",
    "* **Life_expectancy_f**: continuous. (in years)\n",
    "* **Life_expectancy_m**: continuous. (in years)\n",
    "* **Expected_years_schooling_f**: continuous.\n",
    "* **Expected_years_schooling_m**: continuous.\n",
    "* **Mean_years_schooling_f**: continuous.\n",
    "* **Mean_years_schooling_m**: continuous.\n",
    "* **Estimated_gross_national_income_per_capita_f**: continuous. (2011 PPP dolars)\n",
    "* **Estimated_gross_national_income_per_capita_m**: continuous. (2011 PPP dolars)\n",
    "* **GII_value**: continuous.\n",
    "* **GII_rank**: discrete.\n",
    "* **Maternal_mortality_ration**: discrete. (deaths per 100.000 live births)\n",
    "* **Adolescent_birth_rate**: continuous. (births per 1.000 women ages 15-19)\n",
    "* **Share_seats_parlament**: percent (by women).\n",
    "* **Population_above_secondary_education_f**: percent. (% ages 25 and older)\n",
    "* **Population_above_secondary_education_m**: percent. (% ages 25 and older)\n",
    "* **Labour_force_participation_rate_f**: percent. (% ages 15 and older)\n",
    "* **Labour_force_participation_rate_m**: percent. (% ages 15 and older)"
   ]
  },
  {
   "cell_type": "markdown",
   "metadata": {},
   "source": [
    "### 10 Perguntas selecionadas para serem respondidas:\n",
    "* Qual a relação entre renda per capta por genero e anos de educação por genero?\n",
    "* \n",
    "* \n",
    "* \n",
    "* \n",
    "* \n",
    "* \n",
    "* \n",
    "* \n",
    "* "
   ]
  },
  {
   "cell_type": "code",
   "execution_count": 6,
   "metadata": {},
   "outputs": [],
   "source": [
    "import urllib\n",
    "\n",
    "data_raw=[]\n",
    "\n",
    "\n",
    "for line in urllib.request.urlopen(url_gdi_gii_pais):\n",
    "    # transforma o conteúdo em bytes para o formato de strings\n",
    "    lined = line.decode()\n",
    "    # separa cada linha em campos (separados por vírgula)\n",
    "    field_lst = str(lined).split(',')\n",
    "    \n",
    "    # inclui no data frame se o número de atributos for o esperado\n",
    "    # isso garante que não inserimos instâncias incompletas\n",
    "    if len(field_lst)==23:\n",
    "        data_raw.append(field_lst[0:23])\n",
    "    else:\n",
    "        print('skipped data (error? blank line?):', line)"
   ]
  },
  {
   "cell_type": "code",
   "execution_count": 8,
   "metadata": {},
   "outputs": [
    {
     "name": "stdout",
     "output_type": "stream",
     "text": [
      "['HDI_rank', 'Country', 'GDI_Value', 'GDI_Group', 'HDI_f', 'HDI_m', 'life_expectancy_f', 'life_expectancy_m', 'Expected_years_of_schooling_f', 'Expected_years_of_schooling_m', 'Mean_ years_of_schooling_f', 'Mean_ years_of_schooling_m', 'Estimated_gross national_income_per_capita_f', 'Estimated_gross national_income_per_capita_m', 'GII_value', 'GII_rank', 'maternal_mortality_ratio', 'adolescent_birth_rate', 'share_of_seats_parliament', 'population_above_secondary_education_f', 'population_above_secondary_education_m', 'labour_force_participation_rate_f', 'labour_force_participation_rate_m\\r\\n']\n",
      "['1', 'Norway', '0.991', '1', '0.945', '0.953', '84.2', '80.5', '18.6', '17.2', '12.6', '12.5', '60.153', '75.731', '0.048', '5', '5', '5.6', '41.4', '96.3', '95.1', '60.8', '67.6\\r\\n']\n"
     ]
    }
   ],
   "source": [
    "print (data_raw[0])\n",
    "print (data_raw[1])"
   ]
  },
  {
   "cell_type": "code",
   "execution_count": null,
   "metadata": {},
   "outputs": [],
   "source": []
  }
 ],
 "metadata": {
  "kernelspec": {
   "display_name": "Python 3",
   "language": "python",
   "name": "python3"
  },
  "language_info": {
   "codemirror_mode": {
    "name": "ipython",
    "version": 3
   },
   "file_extension": ".py",
   "mimetype": "text/x-python",
   "name": "python",
   "nbconvert_exporter": "python",
   "pygments_lexer": "ipython3",
   "version": "3.7.1"
  }
 },
 "nbformat": 4,
 "nbformat_minor": 2
}
