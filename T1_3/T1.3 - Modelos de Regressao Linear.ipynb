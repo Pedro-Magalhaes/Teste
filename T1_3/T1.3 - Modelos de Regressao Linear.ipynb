{
 "cells": [
  {
   "cell_type": "markdown",
   "metadata": {},
   "source": [
    "## Instruções Gerais\n",
    "* Identifiquem no início do arquivo os integrantes do grupo (nome e matrícula)\n",
    "* Por limitações do moodle, o nome do arquivo submetido não pode ter caracteres acentuados ou com cedilha\n",
    "* Apenas um dos integrantes do grupo deve fazer a submissão no moodle\n",
    "* Certifiquem-se de que o arquivo pode ser executado diretamente e sem dependências externas (Kernel > Restart & Run All)"
   ]
  },
  {
   "cell_type": "markdown",
   "metadata": {},
   "source": [
    "## Enunciado do Trabalho"
   ]
  },
  {
   "cell_type": "markdown",
   "metadata": {},
   "source": [
    "Tomem como base os dados sobre desenvolvimento humano disponíveis em: http://hdr.undp.org/en/data. \n",
    "A partir de dados de pobreza e de educação, criem alguns modelos de regressão linear (variando as _features_) para tentar prever a população carcerária de cada país. Avaliem os modelos e indique qual foi o melhor."
   ]
  },
  {
   "cell_type": "code",
   "execution_count": null,
   "metadata": {},
   "outputs": [],
   "source": []
  }
 ],
 "metadata": {
  "kernelspec": {
   "display_name": "Python 3",
   "language": "python",
   "name": "python3"
  },
  "language_info": {
   "codemirror_mode": {
    "name": "ipython",
    "version": 3
   },
   "file_extension": ".py",
   "mimetype": "text/x-python",
   "name": "python",
   "nbconvert_exporter": "python",
   "pygments_lexer": "ipython3",
   "version": "3.6.6"
  }
 },
 "nbformat": 4,
 "nbformat_minor": 2
}
