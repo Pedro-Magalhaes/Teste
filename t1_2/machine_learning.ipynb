{
 "cells": [
  {
   "cell_type": "markdown",
   "metadata": {},
   "source": [
    "## Data set Car Evaluation\n",
    "que foi retirado do [repositório](https://archive.ics.uci.edu/ml/datasets/car+evaluation) da UCI\n",
    "Esse DataSet possui 6 atributos categoricos para classificação de carros : Preço de\n",
    "compra, preço de manutenção, número de portas, número de pessoas, tamanho da\n",
    "mala e segurança. Todos os atributos têm valores discretos.\n",
    "Existem 4 classificações para os carros: Não aceitável, aceitável, bom e\n",
    "muito bom.\n",
    "No arquivo de DataSet existem 1728 instâncias e esse grupo de instâncias\n",
    "cobre todo o espaço de possibilidades de combinações de atributos. Um detalhe é que o número de carros classificados como aceitável é bem maior que os outros.\n",
    "\n",
    "### Escolha dos atributos para o treinamento\n",
    "Utilizando o [Weka](https://www.cs.waikato.ac.nz/ml/weka/) para calcular o ganho de informação por atributo (geralmente usado em árvores de decisão), ou seja, o quão homogeas os grupos de amostras ficam após passerem pelo atributo. Vimos que o número de portas tinha um valor baixo de informação, no entanto, ao retirarmos ele os resultados foram piores. Acreditamos que isso se deve ao fato de já termos poucos em nosso dataset"
   ]
  },
  {
   "cell_type": "code",
   "execution_count": 1,
   "metadata": {},
   "outputs": [],
   "source": [
    "import numpy as np\n",
    "import pandas as pd\n",
    "from sklearn.model_selection import train_test_split\n",
    "import matplotlib.pyplot as plt"
   ]
  },
  {
   "cell_type": "code",
   "execution_count": 2,
   "metadata": {},
   "outputs": [
    {
     "name": "stderr",
     "output_type": "stream",
     "text": [
      "C:\\Users\\pfsma\\Anaconda3\\lib\\site-packages\\matplotlib\\axes\\_axes.py:6462: UserWarning: The 'normed' kwarg is deprecated, and has been replaced by the 'density' kwarg.\n",
      "  warnings.warn(\"The 'normed' kwarg is deprecated, and has been \"\n"
     ]
    },
    {
     "data": {
      "image/png": "[encoded data removed]",
      "text/plain": [
       "<Figure size 1440x720 with 6 Axes>"
      ]
     },
     "metadata": {},
     "output_type": "display_data"
    },
    {
     "data": {
      "image/png": "[encoded data removed]",
      "text/plain": [
       "<Figure size 432x288 with 1 Axes>"
      ]
     },
     "metadata": {},
     "output_type": "display_data"
    }
   ],
   "source": [
    "# classificação dos carros\n",
    "\n",
    "UNACC = 3  # não aceitável\n",
    "ACC = 1    # aceitável\n",
    "GOOD = 2   # bom\n",
    "VG = 4     # Muito bom\n",
    "\n",
    "seed = 12  # para manter todos os resultados reproduziveis\n",
    "np.random.seed(seed)\n",
    "\n",
    "# load dataset\n",
    "dataframe = pd.read_csv(r\"https://raw.githubusercontent.com/Pedro-Magalhaes/Teste/master/t1_2/car_evaluation.csv\")\n",
    "\n",
    "# Assign names to Columns\n",
    "dataframe.columns = ['buying','maint','doors','persons','lug_boot','safety','classes']\n",
    "\n",
    "# Encode Data, transformando o valor dos atributos de strings para numeros\n",
    "dataframe.buying.replace(('vhigh','high','med','low'),(1,2,3,4), inplace=True)\n",
    "dataframe.maint.replace(('vhigh','high','med','low'),(1,2,3,4), inplace=True)\n",
    "dataframe.doors.replace(('2','3','4','5more'),(1,2,3,4), inplace=True)\n",
    "dataframe.persons.replace(('2','4','more'),(1,2,3), inplace=True)\n",
    "dataframe.lug_boot.replace(('small','med','big'),(1,2,3), inplace=True)\n",
    "dataframe.safety.replace(('low','med','high'),(1,2,3), inplace=True)\n",
    "dataframe.classes.replace(('unacc','acc','good','vgood'),(1,2,3,4), inplace=True)\n",
    "\n",
    "dataset = dataframe.values\n",
    "\n",
    "# x -> atributos do problema são 5, de 0 até 5\n",
    "X = dataset[:,0:6]\n",
    "# Y -> classificação de cada caso, coluna 6 do dataframe\n",
    "Y = np.asarray(dataset[:,6], dtype=\"S6\")\n",
    "# Usando a função do sklearn para separar os casos de treino e de teste\n",
    "X_Train, X_Test, Y_Train, Y_Test = train_test_split(X, Y, test_size=0.2)\n",
    "\n",
    "def showDataHist(dataFrame):\n",
    "    plt.figure(figsize=(20,10))\n",
    "    plt.subplot(3,3,1)    \n",
    "    plt.hist(dataframe.safety, normed=True)\n",
    "    plt.subplot(3,3,2)\n",
    "    plt.hist(dataframe.buying, normed=True)\n",
    "    plt.subplot(3,3,3)\n",
    "    plt.hist(dataframe.maint, normed=True)\n",
    "    plt.subplot(3,3,4)\n",
    "    plt.hist(dataframe.doors, normed=True)\n",
    "    plt.subplot(3,3,5)\n",
    "    plt.hist(dataframe.persons, normed=True)\n",
    "    plt.subplot(3,3,6)\n",
    "    plt.hist(dataframe.lug_boot, normed=True)\n",
    "    plt.show()\n",
    "    plt.hist(dataframe.classes, normed=True)\n",
    "    plt.show()\n",
    "    # Criando o Histograma com a distribuição das classes\n",
    "    \n",
    "    # Histograma de cada atributo do problema\n",
    "    #plt.hist(dataframe.buying)\n",
    "\n",
    "    plt.show()\n",
    "showDataHist(dataframe)\n",
    "#proporcao_aceitalvel = len([Y['classes']==1]]) / len(Y)\n",
    "#proporcao_aceitalvel"
   ]
  },
  {
   "cell_type": "code",
   "execution_count": 3,
   "metadata": {},
   "outputs": [],
   "source": [
    "from sklearn import svm\n",
    "from sklearn.svm import SVC\n",
    "from sklearn.preprocessing import StandardScaler\n",
    "from sklearn.metrics import accuracy_score\n",
    "import time\n",
    "\n",
    "def printResults(errosSum,accuracy):\n",
    "    # imprimindo o numero de elementos classificados errados\n",
    "    print('Misclassified samples using SVM are: {}'.format(errosSum))\n",
    "    # imprimindo a acuracia\n",
    "    print('Classification Accuracy of SVM is {} '.format(accuracy))\n",
    "\n",
    "\n",
    "# Fazendo a standartização dos dados ler o site a seguir para explicação:\n",
    "# Obtivemos resultados melhores ulizando esse passo\n",
    "#  https://towardsdatascience.com/effect-of-feature-standardization-on-linear-support-vector-machines-13213765b812\n",
    "def standartizeTrainData(X_Train,X_Test):   \n",
    "    sc = StandardScaler()\n",
    "    sc.fit(X_Train)\n",
    "    X_train_std=sc.transform(X_Train)\n",
    "    X_test_std=sc.transform(X_Test)\n",
    "    return X_test_std, X_train_std\n",
    "\n",
    "def standartize(data):\n",
    "    sc = StandardScaler()\n",
    "    sc.fit(data)\n",
    "    data_std=sc.transform(data)        \n",
    "    return data_std\n",
    "\n",
    "def trainSVM(X_Train,X_Test,Y_Train,Y_Test, kernel , C, gamma ):\n",
    "    start = time.time()\n",
    "    X_test_std,X_train_std = standartizeTrainData(X_Train,X_Test)\n",
    "    # https://scikit-learn.org/stable/auto_examples/svm/plot_rbf_parameters.html#sphx-glr-auto-examples-svm-plot-rbf-parameters-py\n",
    "    # kernel é o tipo de formulação matematica do svm, ebf é \"Radial Basis Function\"\n",
    "    # exp( -gamma * (|| x - x' ||)^2 )\n",
    "    # O parametro C quanto \n",
    "    svc = svm.SVC(kernel=kernel, C=C ,gamma=gamma)\n",
    "    svc.fit(X_train_std,Y_Train)\n",
    "    print('tempo de treino: {}s'.format(time.time()-start))\n",
    "    start = time.time()\n",
    "    s_pred=svc.predict(X_test_std)\n",
    "    print('tempo de classificação dos casos de teste: {}s'.format(time.time()-start))\n",
    "    accuracy = accuracy_score(Y_Test,s_pred)\n",
    "    errosSum = (Y_Test!=s_pred).sum()\n",
    "    return svc, Y_Test, s_pred, accuracy, errosSum\n",
    "\n",
    "\n"
   ]
  },
  {
   "cell_type": "code",
   "execution_count": 4,
   "metadata": {},
   "outputs": [],
   "source": [
    "from sklearn.neighbors import KNeighborsClassifier\n",
    "from sklearn.metrics import accuracy_score\n",
    "\n",
    "def trainKnn(X_Train,Y_Train,X_Test,Y_Test):\n",
    "    # Criando a Knn, testando o melhor numero de vizinhos para testar\n",
    "    bestK = 1\n",
    "    bestAccuracy = 0\n",
    "    menorErro = 3000 # maior que o numero de amostras\n",
    "    for i in range(3,13,2): #variando o K\n",
    "        start = time.time()\n",
    "        #criando o knn\n",
    "        knn = KNeighborsClassifier(n_neighbors=i)\n",
    "        # passando os dados de treino para o knn\n",
    "        knn.fit(X_Train, Y_Train)\n",
    "        print('Tempo de treino para k = {}: {} s'.format(i,time.time()-start))\n",
    "        # Realizando a classificação com dados não usados no treino (dados de teste)\n",
    "        predictions = knn.predict(X_Test)\n",
    "        start = time.time()\n",
    "        #comparando os resultados entre a classificação 'real' e o que a knn classificou para os casos de teste\n",
    "        score = accuracy_score(Y_Test, predictions)\n",
    "        print('Tempo de classificaçao dos testes para k = {}: {} s'.format(i,time.time()-start))\n",
    "        print('score', score,' k ', i)\n",
    "        if score > bestAccuracy:\n",
    "            bestAccuracy = score\n",
    "            bestK = i\n",
    "            menorErro = (Y_Test!=predictions).sum()\n",
    "    \n",
    "    return bestAccuracy,bestK, menorErro\n",
    "\n",
    "def printResultsKnn(accuracy,k,erro):\n",
    "    print('melhor resultado para a Knn: Score: {}, Numero de vizinhos: {}, numero de classificações errad: {}'.format(accuracy,k,erro))\n",
    "\n",
    "\n"
   ]
  },
  {
   "cell_type": "code",
   "execution_count": 5,
   "metadata": {},
   "outputs": [
    {
     "name": "stderr",
     "output_type": "stream",
     "text": [
      "C:\\Users\\pfsma\\Anaconda3\\lib\\site-packages\\sklearn\\utils\\validation.py:475: DataConversionWarning: Data with input dtype int64 was converted to float64 by StandardScaler.\n",
      "  warnings.warn(msg, DataConversionWarning)\n"
     ]
    },
    {
     "ename": "TypeError",
     "evalue": "must be real number, not str",
     "output_type": "error",
     "traceback": [
      "\u001b[1;31m---------------------------------------------------------------------------\u001b[0m",
      "\u001b[1;31mTypeError\u001b[0m                                 Traceback (most recent call last)",
      "\u001b[1;32m<ipython-input-5-9070ec698237>\u001b[0m in \u001b[0;36m<module>\u001b[1;34m()\u001b[0m\n\u001b[0;32m      4\u001b[0m \u001b[0mgamma\u001b[0m \u001b[1;33m=\u001b[0m \u001b[1;36m0.4\u001b[0m\u001b[1;33m\u001b[0m\u001b[0m\n\u001b[0;32m      5\u001b[0m \u001b[1;31m# fazer um for variando os parametros da svm e pegar o melhor conjunto\u001b[0m\u001b[1;33m\u001b[0m\u001b[1;33m\u001b[0m\u001b[0m\n\u001b[1;32m----> 6\u001b[1;33m \u001b[0msvc\u001b[0m\u001b[1;33m,\u001b[0m \u001b[0mY_Test\u001b[0m\u001b[1;33m,\u001b[0m \u001b[0ms_pred\u001b[0m\u001b[1;33m,\u001b[0m \u001b[0maccuracy\u001b[0m\u001b[1;33m,\u001b[0m \u001b[0merrosSum\u001b[0m \u001b[1;33m=\u001b[0m \u001b[0mtrainSVM\u001b[0m\u001b[1;33m(\u001b[0m\u001b[0mX_Train\u001b[0m\u001b[1;33m,\u001b[0m\u001b[0mX_Test\u001b[0m\u001b[1;33m,\u001b[0m\u001b[0mY_Train\u001b[0m\u001b[1;33m,\u001b[0m\u001b[0mY_Test\u001b[0m\u001b[1;33m,\u001b[0m\u001b[0mkernel\u001b[0m\u001b[1;33m,\u001b[0m  \u001b[0mc\u001b[0m\u001b[1;33m,\u001b[0m \u001b[0mgamma\u001b[0m\u001b[1;33m)\u001b[0m\u001b[1;33m\u001b[0m\u001b[0m\n\u001b[0m\u001b[0;32m      7\u001b[0m \u001b[0mprintResults\u001b[0m\u001b[1;33m(\u001b[0m\u001b[0merrosSum\u001b[0m\u001b[1;33m,\u001b[0m\u001b[0maccuracy\u001b[0m\u001b[1;33m)\u001b[0m\u001b[1;33m\u001b[0m\u001b[0m\n",
      "\u001b[1;32m<ipython-input-3-cee60604bcca>\u001b[0m in \u001b[0;36mtrainSVM\u001b[1;34m(X_Train, X_Test, Y_Train, Y_Test, kernel, C, gamma)\u001b[0m\n\u001b[0;32m     36\u001b[0m     \u001b[1;31m# O parametro C quanto\u001b[0m\u001b[1;33m\u001b[0m\u001b[1;33m\u001b[0m\u001b[0m\n\u001b[0;32m     37\u001b[0m     \u001b[0msvc\u001b[0m \u001b[1;33m=\u001b[0m \u001b[0msvm\u001b[0m\u001b[1;33m.\u001b[0m\u001b[0mSVC\u001b[0m\u001b[1;33m(\u001b[0m\u001b[0mkernel\u001b[0m\u001b[1;33m,\u001b[0m \u001b[0mC\u001b[0m \u001b[1;33m,\u001b[0m\u001b[0mgamma\u001b[0m\u001b[1;33m)\u001b[0m\u001b[1;33m\u001b[0m\u001b[0m\n\u001b[1;32m---> 38\u001b[1;33m     \u001b[0msvc\u001b[0m\u001b[1;33m.\u001b[0m\u001b[0mfit\u001b[0m\u001b[1;33m(\u001b[0m\u001b[0mX_train_std\u001b[0m\u001b[1;33m,\u001b[0m\u001b[0mY_Train\u001b[0m\u001b[1;33m)\u001b[0m\u001b[1;33m\u001b[0m\u001b[0m\n\u001b[0m\u001b[0;32m     39\u001b[0m     \u001b[0mprint\u001b[0m\u001b[1;33m(\u001b[0m\u001b[1;34m'tempo de treino: {}s'\u001b[0m\u001b[1;33m.\u001b[0m\u001b[0mformat\u001b[0m\u001b[1;33m(\u001b[0m\u001b[0mtime\u001b[0m\u001b[1;33m.\u001b[0m\u001b[0mtime\u001b[0m\u001b[1;33m(\u001b[0m\u001b[1;33m)\u001b[0m\u001b[1;33m-\u001b[0m\u001b[0mstart\u001b[0m\u001b[1;33m)\u001b[0m\u001b[1;33m)\u001b[0m\u001b[1;33m\u001b[0m\u001b[0m\n\u001b[0;32m     40\u001b[0m     \u001b[0mstart\u001b[0m \u001b[1;33m=\u001b[0m \u001b[0mtime\u001b[0m\u001b[1;33m.\u001b[0m\u001b[0mtime\u001b[0m\u001b[1;33m(\u001b[0m\u001b[1;33m)\u001b[0m\u001b[1;33m\u001b[0m\u001b[0m\n",
      "\u001b[1;32m~\\Anaconda3\\lib\\site-packages\\sklearn\\svm\\base.py\u001b[0m in \u001b[0;36mfit\u001b[1;34m(self, X, y, sample_weight)\u001b[0m\n\u001b[0;32m    185\u001b[0m \u001b[1;33m\u001b[0m\u001b[0m\n\u001b[0;32m    186\u001b[0m         \u001b[0mseed\u001b[0m \u001b[1;33m=\u001b[0m \u001b[0mrnd\u001b[0m\u001b[1;33m.\u001b[0m\u001b[0mrandint\u001b[0m\u001b[1;33m(\u001b[0m\u001b[0mnp\u001b[0m\u001b[1;33m.\u001b[0m\u001b[0miinfo\u001b[0m\u001b[1;33m(\u001b[0m\u001b[1;34m'i'\u001b[0m\u001b[1;33m)\u001b[0m\u001b[1;33m.\u001b[0m\u001b[0mmax\u001b[0m\u001b[1;33m)\u001b[0m\u001b[1;33m\u001b[0m\u001b[0m\n\u001b[1;32m--> 187\u001b[1;33m         \u001b[0mfit\u001b[0m\u001b[1;33m(\u001b[0m\u001b[0mX\u001b[0m\u001b[1;33m,\u001b[0m \u001b[0my\u001b[0m\u001b[1;33m,\u001b[0m \u001b[0msample_weight\u001b[0m\u001b[1;33m,\u001b[0m \u001b[0msolver_type\u001b[0m\u001b[1;33m,\u001b[0m \u001b[0mkernel\u001b[0m\u001b[1;33m,\u001b[0m \u001b[0mrandom_seed\u001b[0m\u001b[1;33m=\u001b[0m\u001b[0mseed\u001b[0m\u001b[1;33m)\u001b[0m\u001b[1;33m\u001b[0m\u001b[0m\n\u001b[0m\u001b[0;32m    188\u001b[0m         \u001b[1;31m# see comment on the other call to np.iinfo in this file\u001b[0m\u001b[1;33m\u001b[0m\u001b[1;33m\u001b[0m\u001b[0m\n\u001b[0;32m    189\u001b[0m \u001b[1;33m\u001b[0m\u001b[0m\n",
      "\u001b[1;32m~\\Anaconda3\\lib\\site-packages\\sklearn\\svm\\base.py\u001b[0m in \u001b[0;36m_dense_fit\u001b[1;34m(self, X, y, sample_weight, solver_type, kernel, random_seed)\u001b[0m\n\u001b[0;32m    252\u001b[0m                 \u001b[0mcache_size\u001b[0m\u001b[1;33m=\u001b[0m\u001b[0mself\u001b[0m\u001b[1;33m.\u001b[0m\u001b[0mcache_size\u001b[0m\u001b[1;33m,\u001b[0m \u001b[0mcoef0\u001b[0m\u001b[1;33m=\u001b[0m\u001b[0mself\u001b[0m\u001b[1;33m.\u001b[0m\u001b[0mcoef0\u001b[0m\u001b[1;33m,\u001b[0m\u001b[1;33m\u001b[0m\u001b[0m\n\u001b[0;32m    253\u001b[0m                 \u001b[0mgamma\u001b[0m\u001b[1;33m=\u001b[0m\u001b[0mself\u001b[0m\u001b[1;33m.\u001b[0m\u001b[0m_gamma\u001b[0m\u001b[1;33m,\u001b[0m \u001b[0mepsilon\u001b[0m\u001b[1;33m=\u001b[0m\u001b[0mself\u001b[0m\u001b[1;33m.\u001b[0m\u001b[0mepsilon\u001b[0m\u001b[1;33m,\u001b[0m\u001b[1;33m\u001b[0m\u001b[0m\n\u001b[1;32m--> 254\u001b[1;33m                 max_iter=self.max_iter, random_seed=random_seed)\n\u001b[0m\u001b[0;32m    255\u001b[0m \u001b[1;33m\u001b[0m\u001b[0m\n\u001b[0;32m    256\u001b[0m         \u001b[0mself\u001b[0m\u001b[1;33m.\u001b[0m\u001b[0m_warn_from_fit_status\u001b[0m\u001b[1;33m(\u001b[0m\u001b[1;33m)\u001b[0m\u001b[1;33m\u001b[0m\u001b[0m\n",
      "\u001b[1;32msklearn\\svm\\libsvm.pyx\u001b[0m in \u001b[0;36msklearn.svm.libsvm.fit\u001b[1;34m()\u001b[0m\n",
      "\u001b[1;31mTypeError\u001b[0m: must be real number, not str"
     ]
    }
   ],
   "source": [
    "kernelList = ['rbf','linear','poly'] # rbf usa params C e gamma, linear apenas C, poly C,degree e coef0\n",
    "kernel = 'rbf'\n",
    "c = 7\n",
    "gamma = 0.4\n",
    "# fazer um for variando os parametros da svm e pegar o melhor conjunto\n",
    "svc, Y_Test, s_pred, accuracy, errosSum = trainSVM(X_Train,X_Test,Y_Train,Y_Test,kernel,  c, gamma)\n",
    "printResults(errosSum,accuracy)"
   ]
  },
  {
   "cell_type": "code",
   "execution_count": null,
   "metadata": {},
   "outputs": [],
   "source": [
    "# Knn já faz um for variando o numero de vizinhos\n",
    "acc,k,erro = trainKnn(X_Train,Y_Train,X_Test,Y_Test)\n",
    "\n",
    "printResultsKnn(acc,k,erro)"
   ]
  }
 ],
 "metadata": {
  "kernelspec": {
   "display_name": "Python 3",
   "language": "python",
   "name": "python3"
  },
  "language_info": {
   "codemirror_mode": {
    "name": "ipython",
    "version": 3
   },
   "file_extension": ".py",
   "mimetype": "text/x-python",
   "name": "python",
   "nbconvert_exporter": "python",
   "pygments_lexer": "ipython3",
   "version": "3.6.5"
  }
 },
 "nbformat": 4,
 "nbformat_minor": 2
}
