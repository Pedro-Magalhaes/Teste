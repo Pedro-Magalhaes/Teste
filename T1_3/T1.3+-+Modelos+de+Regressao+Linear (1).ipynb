{
 "cells": [
  {
   "cell_type": "markdown",
   "metadata": {},
   "source": [
    "## Instruções Gerais\n",
    "* Identifiquem no início do arquivo os integrantes do grupo (nome e matrícula)\n",
    "* Por limitações do moodle, o nome do arquivo submetido não pode ter caracteres acentuados ou com cedilha\n",
    "* Apenas um dos integrantes do grupo deve fazer a submissão no moodle\n",
    "* Certifiquem-se de que o arquivo pode ser executado diretamente e sem dependências externas (Kernel > Restart & Run All)"
   ]
  },
  {
   "cell_type": "markdown",
   "metadata": {},
   "source": [
    "## Enunciado do Trabalho"
   ]
  },
  {
   "cell_type": "markdown",
   "metadata": {},
   "source": [
    "Tomem como base os dados sobre desenvolvimento humano disponíveis em: http://hdr.undp.org/en/data. \n",
    "A partir de dados de pobreza e de educação, criem alguns modelos de regressão linear (variando as _features_) para tentar prever a população carcerária de cada país. Avaliem os modelos e indique qual foi o melhor."
   ]
  },
  {
   "cell_type": "code",
   "execution_count": 12,
   "metadata": {
    "collapsed": true
   },
   "outputs": [],
   "source": [
    "from IPython.display import display, Markdown, Latex\n",
    "\n",
    "# Data source:\n",
    "# http://hdr.undp.org/en/composite/GII\n",
    "# http://hdr.undp.org/en/composite/GDI\n",
    "\n",
    "# Link dos dados utilizados nesse notebook. Arquivo texto, delimitado por vírgulas, sem cabeçalho\n",
    "url_tab = 'https://raw.githubusercontent.com/Pedro-Magalhaes/Teste/master/T1_3/t3.csv'"
   ]
  },
  {
   "cell_type": "code",
   "execution_count": 13,
   "metadata": {
    "collapsed": false
   },
   "outputs": [
    {
     "data": {
      "text/plain": [
       "(200, 6)"
      ]
     },
     "execution_count": 13,
     "metadata": {},
     "output_type": "execute_result"
    }
   ],
   "source": [
    "# cria dataframe pandas com dados\n",
    "\n",
    "import pandas as pd\n",
    "df = pd.read_csv(url_tab)\n",
    "\n",
    "# obtendo as dimensões do data set\n",
    "df.shape\n",
    "\n",
    "# Resultado esperado (200,5)"
   ]
  },
  {
   "cell_type": "code",
   "execution_count": 14,
   "metadata": {
    "collapsed": false
   },
   "outputs": [
    {
     "data": {
      "text/html": [
       "<div>\n",
       "<table border=\"1\" class=\"dataframe\">\n",
       "  <thead>\n",
       "    <tr style=\"text-align: right;\">\n",
       "      <th></th>\n",
       "      <th>Year</th>\n",
       "      <th>State_Name</th>\n",
       "      <th>High_School_Graduation</th>\n",
       "      <th>Income_Inequality_Gini_Index</th>\n",
       "      <th>Violent_Crime</th>\n",
       "      <th>Unnamed: 5</th>\n",
       "    </tr>\n",
       "  </thead>\n",
       "  <tbody>\n",
       "    <tr>\n",
       "      <th>0</th>\n",
       "      <td>2015</td>\n",
       "      <td>Alabama</td>\n",
       "      <td>80.0</td>\n",
       "      <td>0.476</td>\n",
       "      <td>430.8</td>\n",
       "      <td>NaN</td>\n",
       "    </tr>\n",
       "    <tr>\n",
       "      <th>1</th>\n",
       "      <td>2015</td>\n",
       "      <td>Alaska</td>\n",
       "      <td>71.8</td>\n",
       "      <td>0.418</td>\n",
       "      <td>640.4</td>\n",
       "      <td>NaN</td>\n",
       "    </tr>\n",
       "    <tr>\n",
       "      <th>2</th>\n",
       "      <td>2015</td>\n",
       "      <td>Arizona</td>\n",
       "      <td>75.1</td>\n",
       "      <td>0.468</td>\n",
       "      <td>416.5</td>\n",
       "      <td>NaN</td>\n",
       "    </tr>\n",
       "    <tr>\n",
       "      <th>3</th>\n",
       "      <td>2015</td>\n",
       "      <td>Arkansas</td>\n",
       "      <td>84.9</td>\n",
       "      <td>0.471</td>\n",
       "      <td>460.3</td>\n",
       "      <td>NaN</td>\n",
       "    </tr>\n",
       "    <tr>\n",
       "      <th>4</th>\n",
       "      <td>2015</td>\n",
       "      <td>California</td>\n",
       "      <td>80.4</td>\n",
       "      <td>0.489</td>\n",
       "      <td>402.1</td>\n",
       "      <td>NaN</td>\n",
       "    </tr>\n",
       "    <tr>\n",
       "      <th>5</th>\n",
       "      <td>2015</td>\n",
       "      <td>Colorado</td>\n",
       "      <td>76.9</td>\n",
       "      <td>0.458</td>\n",
       "      <td>308.0</td>\n",
       "      <td>NaN</td>\n",
       "    </tr>\n",
       "    <tr>\n",
       "      <th>6</th>\n",
       "      <td>2015</td>\n",
       "      <td>Connecticut</td>\n",
       "      <td>85.5</td>\n",
       "      <td>0.501</td>\n",
       "      <td>262.5</td>\n",
       "      <td>NaN</td>\n",
       "    </tr>\n",
       "    <tr>\n",
       "      <th>7</th>\n",
       "      <td>2015</td>\n",
       "      <td>Delaware</td>\n",
       "      <td>80.4</td>\n",
       "      <td>0.449</td>\n",
       "      <td>491.4</td>\n",
       "      <td>NaN</td>\n",
       "    </tr>\n",
       "    <tr>\n",
       "      <th>8</th>\n",
       "      <td>2015</td>\n",
       "      <td>Florida</td>\n",
       "      <td>75.6</td>\n",
       "      <td>0.483</td>\n",
       "      <td>470.4</td>\n",
       "      <td>NaN</td>\n",
       "    </tr>\n",
       "    <tr>\n",
       "      <th>9</th>\n",
       "      <td>2015</td>\n",
       "      <td>Georgia</td>\n",
       "      <td>71.7</td>\n",
       "      <td>0.480</td>\n",
       "      <td>365.7</td>\n",
       "      <td>NaN</td>\n",
       "    </tr>\n",
       "  </tbody>\n",
       "</table>\n",
       "</div>"
      ],
      "text/plain": [
       "   Year   State_Name  High_School_Graduation  Income_Inequality_Gini_Index  \\\n",
       "0  2015      Alabama                    80.0                         0.476   \n",
       "1  2015       Alaska                    71.8                         0.418   \n",
       "2  2015      Arizona                    75.1                         0.468   \n",
       "3  2015     Arkansas                    84.9                         0.471   \n",
       "4  2015   California                    80.4                         0.489   \n",
       "5  2015     Colorado                    76.9                         0.458   \n",
       "6  2015  Connecticut                    85.5                         0.501   \n",
       "7  2015     Delaware                    80.4                         0.449   \n",
       "8  2015      Florida                    75.6                         0.483   \n",
       "9  2015      Georgia                    71.7                         0.480   \n",
       "\n",
       "   Violent_Crime  Unnamed: 5  \n",
       "0          430.8         NaN  \n",
       "1          640.4         NaN  \n",
       "2          416.5         NaN  \n",
       "3          460.3         NaN  \n",
       "4          402.1         NaN  \n",
       "5          308.0         NaN  \n",
       "6          262.5         NaN  \n",
       "7          491.4         NaN  \n",
       "8          470.4         NaN  \n",
       "9          365.7         NaN  "
      ]
     },
     "execution_count": 14,
     "metadata": {},
     "output_type": "execute_result"
    }
   ],
   "source": [
    "df.head(10)"
   ]
  },
  {
   "cell_type": "code",
   "execution_count": 15,
   "metadata": {
    "collapsed": false
   },
   "outputs": [],
   "source": [
    "# ajusta os tipos das colunas numéricas\n",
    "\n",
    "# função de conversão de strings para inteiros\n",
    "def str_to_int(c):\n",
    "    if isinstance(c, int):\n",
    "        return c\n",
    "    else:\n",
    "        try:\n",
    "            return int(c)\n",
    "        except:\n",
    "            return None\n",
    "        \n",
    "def str_to_float(c):\n",
    "    if isinstance(c, float):\n",
    "        return c\n",
    "    else:\n",
    "        try:\n",
    "            return float(c)\n",
    "        except:\n",
    "            return None\n",
    "        \n",
    "# aplicamos a função a todas as colunas numéricas\n",
    "df.Year = df.Year.apply(str_to_int)\n",
    "df.High_School_Graduation = df.High_School_Graduation.apply(str_to_float)\n",
    "df.Income_Inequality_Gini_Index = df.Income_Inequality_Gini_Index.apply(str_to_float)\n",
    "df.Violent_Crime = df.Violent_Crime.apply(str_to_float)"
   ]
  },
  {
   "cell_type": "code",
   "execution_count": 50,
   "metadata": {
    "collapsed": false
   },
   "outputs": [
    {
     "name": "stdout",
     "output_type": "stream",
     "text": [
      "2474.49\n"
     ]
    }
   ],
   "source": [
    "def matrixmult (A, B):\n",
    "    rows_A = len(A)\n",
    "    cols_A = len(A[0])\n",
    "    rows_B = len(B)\n",
    "    cols_B = len(B[0])\n",
    "\n",
    "    if cols_A != rows_B:\n",
    "      print (\"Cannot multiply the two matrices. Incorrect dimensions.\")\n",
    "      return\n",
    "\n",
    "    # Create the result matrix\n",
    "    # Dimensions would be rows_A x cols_B\n",
    "    C = [[0 for row in range(cols_B)] for col in range(rows_A)]\n",
    "    print (C)\n",
    "\n",
    "    for i in range(rows_A):\n",
    "        for j in range(cols_B):\n",
    "            for k in range(cols_A):\n",
    "                C[i][j] += A[i][k] * B[k][j]\n",
    "    return C\n",
    "\n",
    "def getDataState(id):\n",
    "    A = [[2015, 0],[2016, 0],[2017, 0],[2018, 0]]\n",
    "    A[0][1] = df.Violent_Crime[0 + id]\n",
    "    A[1][1] = df.Violent_Crime[50 + id]\n",
    "    A[2][1] = df.Violent_Crime[100 + id]\n",
    "    A[3][1] = df.Violent_Crime[150 + id]\n",
    "    return A\n",
    "\n",
    "def getDataStateArray(id):\n",
    "    A = [0,0,0,0]\n",
    "    A[0] = df.Violent_Crime[0 + id]\n",
    "    A[1] = df.Violent_Crime[50 + id]\n",
    "    A[2] = df.Violent_Crime[100 + id]\n",
    "    A[3] = df.Violent_Crime[150 + id]\n",
    "    return A\n",
    "\n",
    "def multArray(X,Y):\n",
    "    Z = [0 for row in range(len(X))]\n",
    "    for i in range(len(X)):\n",
    "        Z[i] = X[i]*Y[i]\n",
    "    return Z\n",
    "\n",
    "def somaArray(A):\n",
    "    soma = 0\n",
    "    for i in range(len(A)):\n",
    "        soma = soma + A[i]\n",
    "    return soma\n",
    "\n",
    "def calcS2Matriz(A, mA):\n",
    "    S = [0 for row in range(len(A))]\n",
    "    for i in range(len(A)):\n",
    "        S[i] = (A[i] - mA)*(A[i] - mA)\n",
    "    soma = somaArray(S)\n",
    "    return soma\n",
    "\n",
    "def calcSXYMatriz(X, mX, Y, mY):\n",
    "    S = [0 for row in range(len(X))]\n",
    "    for i in range(len(X)):\n",
    "        S[i] = (X[i] - mX)*(Y[i] - mY)\n",
    "    \n",
    "    soma = somaArray(S)\n",
    "    return soma\n",
    "\n",
    "def regressaoSimples(X, Y, anoPrevisao):\n",
    "    mX = somaArray(X)/len(X)\n",
    "    mY = somaArray(Y)/len(Y)\n",
    "    s2X = calcS2Matriz(X, mX)/len(X)\n",
    "    s2Y = calcS2Matriz(Y, mY)/len(Y)\n",
    "    sXY = calcSXYMatriz(X, mX,  Y, mY)\n",
    "    \n",
    "    b = sXY/s2X\n",
    "    a = mY -b*mX\n",
    "    \n",
    "    print (a + b*anoPrevisao)\n",
    "    return\n",
    "\n",
    "X = [2015,2016,2017,2018]\n",
    "Y = getDataStateArray(0)\n",
    "regressaoSimples(X,Y,2020)\n",
    "\n",
    "\n",
    "\n",
    "\n",
    "def regressaoSimples2(X, Y, n):\n",
    "    XY = somaArray(matrixmult(X,Y))\n",
    "    X2 = somaArray(matrixmult(X,X))\n",
    "    Y2 = somaArray(matrixmult(Y,Y))\n",
    "    mX = somaArray(X)/n\n",
    "    mY = somaArray(Y)/n\n",
    "    mXY = mX*mY\n",
    "    \n",
    "    b  = (XY - n*mXY)/(X2 - n*Y2)"
   ]
  },
  {
   "cell_type": "code",
   "execution_count": null,
   "metadata": {
    "collapsed": true
   },
   "outputs": [],
   "source": []
  }
 ],
 "metadata": {
  "anaconda-cloud": {},
  "kernelspec": {
   "display_name": "Python [default]",
   "language": "python",
   "name": "python3"
  },
  "language_info": {
   "codemirror_mode": {
    "name": "ipython",
    "version": 3
   },
   "file_extension": ".py",
   "mimetype": "text/x-python",
   "name": "python",
   "nbconvert_exporter": "python",
   "pygments_lexer": "ipython3",
   "version": "3.5.2"
  }
 },
 "nbformat": 4,
 "nbformat_minor": 2
}
