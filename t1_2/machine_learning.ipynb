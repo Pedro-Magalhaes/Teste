{
 "cells": [
  {
   "cell_type": "code",
   "execution_count": null,
   "metadata": {},
   "outputs": [],
   "source": [
    "import numpy as np\n",
    "import pandas as pd\n",
    "from sklearn.model_selection import train_test_split\n",
    "import matplotlib.pyplot as plt"
   ]
  },
  {
   "cell_type": "code",
   "execution_count": null,
   "metadata": {},
   "outputs": [],
   "source": [
    "seed = 7  # para manter todos os resultados reproduziveis\n",
    "np.random.seed(self.seed)\n",
    "\n",
    "# load dataset\n",
    "self.dataframe = pd.read_csv(r\"car_evaluation.csv\")\n",
    "\n",
    "# Assign names to Columns\n",
    "self.dataframe.columns = ['buying','maint','doors','persons','lug_boot','safety','classes']\n",
    "\n",
    "# Encode Data, transformando o valor dos atributos de strings para numeros\n",
    "dataframe.buying.replace(('vhigh','high','med','low'),(1,2,3,4), inplace=True)\n",
    "dataframe.maint.replace(('vhigh','high','med','low'),(1,2,3,4), inplace=True)\n",
    "dataframe.doors.replace(('2','3','4','5more'),(1,2,3,4), inplace=True)\n",
    "dataframe.persons.replace(('2','4','more'),(1,2,3), inplace=True)\n",
    "dataframe.lug_boot.replace(('small','med','big'),(1,2,3), inplace=True)\n",
    "dataframe.safety.replace(('low','med','high'),(1,2,3), inplace=True)\n",
    "dataframe.classes.replace(('unacc','acc','good','vgood'),(1,2,3,4), inplace=True)\n",
    "\n",
    "dataset = self.dataframe.values\n",
    "\n",
    "# x -> atributos do problema são 5, de 0 até 5\n",
    "X = dataset[:,0:6]\n",
    "# Y -> classificação de cada caso, coluna 6 do dataframe\n",
    "Y = np.asarray(dataset[:,6], dtype=\"S6\")\n",
    "# Usando a função do sklearn para separar os casos de treino e de teste\n",
    "X_Train, X_Test, Y_Train, Y_Test = train_test_split(X, Y, test_size=0.2)\n",
    "\n",
    "def showDataHist(dataFrame):\n",
    "        # Criando o Histograma com a distribuição das classes\n",
    "        plt.hist(dataframe.classes)\n",
    "        # Histograma de cada atributo do problema\n",
    "        dataframe.hist()\n",
    "        k = [3,5,7,9,11]\n",
    "        y = [0.9050925925925926,0.9050925925925926,0.9606481481481481,0.9467592592592593,0.9259259259259259]\n",
    "        plt.plot(k,y)\n",
    "        plt.show()\n",
    "showDataHist(dataframe)"
   ]
  }
 ],
 "metadata": {
  "kernelspec": {
   "display_name": "Python 3",
   "language": "python",
   "name": "python3"
  },
  "language_info": {
   "codemirror_mode": {
    "name": "ipython",
    "version": 3
   },
   "file_extension": ".py",
   "mimetype": "text/x-python",
   "name": "python",
   "nbconvert_exporter": "python",
   "pygments_lexer": "ipython3",
   "version": "3.6.5"
  }
 },
 "nbformat": 4,
 "nbformat_minor": 2
}
